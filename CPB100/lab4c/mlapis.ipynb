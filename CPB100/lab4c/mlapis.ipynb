{
 "cells": [
  {
   "cell_type": "markdown",
   "metadata": {},
   "source": [
    "<h1>機械学習APIの使用</h1>\n",
    "\n",
    "まず、APIコンソールにアクセスし、左側のメニューで[資格情報]を選択します。 「資格情報の作成」を選択し、アプリケーションのAPIキーを生成します。悪用を防ぐために、おそらくIPアドレスで制限する必要がありますが、今のところ、このデモを試した後は、そのフィールドを空白のままにしてAPIキーを削除してください。\n",
    "ここにAPIキーをコピーして貼り付けます。"
   ]
  },
  {
   "cell_type": "code",
   "execution_count": null,
   "metadata": {},
   "outputs": [],
   "source": [
    "# chownコマンドを使用して、リポジトリの所有権をユーザーに変更します\n",
    "!sudo chown -R jupyter:jupyter /home/jupyter/training-data-analyst"
   ]
  },
  {
   "cell_type": "code",
   "execution_count": 2,
   "metadata": {},
   "outputs": [],
   "source": [
    "APIKEY=\"CHANGE-THIS-KEY\"  # APIキーに置き換えます"
   ]
  },
  {
   "cell_type": "markdown",
   "metadata": {},
   "source": [
    "<b>注：必ずAPIキーを生成し、上記の値を置き換えてください。サンプルキーは機能しません。</b>\n"
   ]
  },
  {
   "cell_type": "markdown",
   "metadata": {},
   "source": [
    "<h2>TranslateAPIを呼び出す</h2>"
   ]
  },
  {
   "cell_type": "code",
   "execution_count": 3,
   "metadata": {},
   "outputs": [
    {
     "name": "stdout",
     "output_type": "stream",
     "text": [
      "is it really this easy? -> est-ce vraiment si facile?\n",
      "amazing technology -> technologie incroyable\n",
      "wow -> sensationnel\n"
     ]
    }
   ],
   "source": [
    "# TranslateAPIの実行\n",
    "from googleapiclient.discovery import build\n",
    "service = build('translate', 'v2', developerKey=APIKEY)\n",
    "\n",
    "# サービスを利用する\n",
    "inputs = ['is it really this easy?', 'amazing technology', 'wow']\n",
    "outputs = service.translations().list(source='en', target='ja', q=inputs).execute()\n",
    "\n",
    "# Print出力\n",
    "for input, output in zip(inputs, outputs['translations']):\n",
    "  print(\"{0} -> {1}\".format(input, output['translatedText']))"
   ]
  },
  {
   "cell_type": "markdown",
   "metadata": {},
   "source": [
    "<h2>VisionAPIを呼び出す </h2>\n",
    "\n",
    "Vision APIは、Cloud Storage内の画像を処理することも、POSTメッセージに直接埋め込むこともできます。 Cloud Storageを使用し、次の画像でOCRを実行します\n",
    "：<img src = \"https://storage.googleapis.com/cloud-training-demos/vision/sign2.jpg\" width = \"200\" />。その写真はhttp://www.publicdomainpictures.net/view-image.php?image=15842からのものです"
   ]
  },
  {
   "cell_type": "code",
   "execution_count": 5,
   "metadata": {},
   "outputs": [
    {
     "name": "stdout",
     "output_type": "stream",
     "text": [
      "{'responses': [{'textAnnotations': [{'description': '请您爱护和保\\n护卫生创建优\\n美水环境\\n', 'locale': 'zh', 'boundingPoly': {'vertices': [{'y': 104, 'x': 152}, {'y': 104, 'x': 1082}, {'y': 658, 'x': 1082}, {'y': 658, 'x': 152}]}}, {'description': '请', 'boundingPoly': {'vertices': [{'y': 104, 'x': 179}, {'y': 104, 'x': 321}, {'y': 243, 'x': 321}, {'y': 243, 'x': 179}]}}, {'description': '您', 'boundingPoly': {'vertices': [{'y': 108, 'x': 329}, {'y': 108, 'x': 471}, {'y': 243, 'x': 471}, {'y': 243, 'x': 329}]}}, {'description': '爱护', 'boundingPoly': {'vertices': [{'y': 108, 'x': 479}, {'y': 108, 'x': 775}, {'y': 243, 'x': 775}, {'y': 243, 'x': 479}]}}, {'description': '和', 'boundingPoly': {'vertices': [{'y': 111, 'x': 786}, {'y': 111, 'x': 925}, {'y': 243, 'x': 925}, {'y': 243, 'x': 786}]}}, {'description': '保', 'boundingPoly': {'vertices': [{'y': 104, 'x': 933}, {'y': 104, 'x': 1079}, {'y': 239, 'x': 1079}, {'y': 239, 'x': 933}]}}, {'description': '护', 'boundingPoly': {'vertices': [{'y': 300, 'x': 165}, {'y': 300, 'x': 312}, {'y': 440, 'x': 312}, {'y': 440, 'x': 165}]}}, {'description': '卫生', 'boundingPoly': {'vertices': [{'y': 304, 'x': 316}, {'y': 304, 'x': 619}, {'y': 440, 'x': 619}, {'y': 440, 'x': 316}]}}, {'description': '创建', 'boundingPoly': {'vertices': [{'y': 304, 'x': 631}, {'y': 304, 'x': 930}, {'y': 444, 'x': 930}, {'y': 444, 'x': 631}]}}, {'description': '优', 'boundingPoly': {'vertices': [{'y': 300, 'x': 938}, {'y': 300, 'x': 1082}, {'y': 440, 'x': 1082}, {'y': 440, 'x': 938}]}}, {'description': '美', 'boundingPoly': {'vertices': [{'y': 503, 'x': 158}, {'y': 509, 'x': 304}, {'y': 655, 'x': 297}, {'y': 649, 'x': 152}]}}, {'description': '水', 'boundingPoly': {'vertices': [{'y': 501, 'x': 313}, {'y': 508, 'x': 464}, {'y': 653, 'x': 457}, {'y': 647, 'x': 307}]}}, {'description': '环境', 'boundingPoly': {'vertices': [{'y': 499, 'x': 466}, {'y': 512, 'x': 772}, {'y': 658, 'x': 765}, {'y': 645, 'x': 460}]}}], 'fullTextAnnotation': {'text': '请您爱护和保\\n护卫生创建优\\n美水环境\\n', 'pages': [{'blocks': [{'boundingBox': {'vertices': [{'y': 104, 'x': 152}, {'y': 104, 'x': 1082}, {'y': 658, 'x': 1082}, {'y': 658, 'x': 152}]}, 'blockType': 'TEXT', 'property': {'detectedLanguages': [{'languageCode': 'zh-Hans'}]}, 'paragraphs': [{'boundingBox': {'vertices': [{'y': 104, 'x': 152}, {'y': 104, 'x': 1082}, {'y': 658, 'x': 1082}, {'y': 658, 'x': 152}]}, 'property': {'detectedLanguages': [{'languageCode': 'zh-Hans'}]}, 'words': [{'boundingBox': {'vertices': [{'y': 104, 'x': 179}, {'y': 104, 'x': 321}, {'y': 243, 'x': 321}, {'y': 243, 'x': 179}]}, 'symbols': [{'boundingBox': {'vertices': [{'y': 104, 'x': 179}, {'y': 104, 'x': 321}, {'y': 243, 'x': 321}, {'y': 243, 'x': 179}]}, 'text': '请', 'property': {'detectedLanguages': [{'languageCode': 'zh-Hans'}]}}], 'property': {'detectedLanguages': [{'languageCode': 'zh-Hans'}]}}, {'boundingBox': {'vertices': [{'y': 108, 'x': 329}, {'y': 108, 'x': 471}, {'y': 243, 'x': 471}, {'y': 243, 'x': 329}]}, 'symbols': [{'boundingBox': {'vertices': [{'y': 108, 'x': 329}, {'y': 108, 'x': 471}, {'y': 243, 'x': 471}, {'y': 243, 'x': 329}]}, 'text': '您', 'property': {'detectedLanguages': [{'languageCode': 'zh-Hans'}]}}], 'property': {'detectedLanguages': [{'languageCode': 'zh-Hans'}]}}, {'boundingBox': {'vertices': [{'y': 108, 'x': 479}, {'y': 108, 'x': 775}, {'y': 243, 'x': 775}, {'y': 243, 'x': 479}]}, 'symbols': [{'boundingBox': {'vertices': [{'y': 108, 'x': 479}, {'y': 108, 'x': 621}, {'y': 243, 'x': 621}, {'y': 243, 'x': 479}]}, 'text': '爱', 'property': {'detectedLanguages': [{'languageCode': 'zh-Hans'}]}}, {'boundingBox': {'vertices': [{'y': 108, 'x': 633}, {'y': 108, 'x': 775}, {'y': 243, 'x': 775}, {'y': 243, 'x': 633}]}, 'text': '护', 'property': {'detectedLanguages': [{'languageCode': 'zh-Hans'}]}}], 'property': {'detectedLanguages': [{'languageCode': 'zh-Hans'}]}}, {'boundingBox': {'vertices': [{'y': 111, 'x': 786}, {'y': 111, 'x': 925}, {'y': 243, 'x': 925}, {'y': 243, 'x': 786}]}, 'symbols': [{'boundingBox': {'vertices': [{'y': 111, 'x': 786}, {'y': 111, 'x': 925}, {'y': 243, 'x': 925}, {'y': 243, 'x': 786}]}, 'text': '和', 'property': {'detectedLanguages': [{'languageCode': 'zh-Hans'}]}}], 'property': {'detectedLanguages': [{'languageCode': 'zh-Hans'}]}}, {'boundingBox': {'vertices': [{'y': 104, 'x': 933}, {'y': 104, 'x': 1079}, {'y': 239, 'x': 1079}, {'y': 239, 'x': 933}]}, 'symbols': [{'boundingBox': {'vertices': [{'y': 104, 'x': 933}, {'y': 104, 'x': 1079}, {'y': 239, 'x': 1079}, {'y': 239, 'x': 933}]}, 'text': '保', 'property': {'detectedLanguages': [{'languageCode': 'zh-Hans'}], 'detectedBreak': {'type': 'EOL_SURE_SPACE'}}}], 'property': {'detectedLanguages': [{'languageCode': 'ja'}]}}, {'boundingBox': {'vertices': [{'y': 300, 'x': 165}, {'y': 300, 'x': 312}, {'y': 440, 'x': 312}, {'y': 440, 'x': 165}]}, 'symbols': [{'boundingBox': {'vertices': [{'y': 300, 'x': 165}, {'y': 300, 'x': 312}, {'y': 440, 'x': 312}, {'y': 440, 'x': 165}]}, 'text': '护', 'property': {'detectedLanguages': [{'languageCode': 'zh-Hans'}]}}], 'property': {'detectedLanguages': [{'languageCode': 'zh-Hans'}]}}, {'boundingBox': {'vertices': [{'y': 304, 'x': 316}, {'y': 304, 'x': 619}, {'y': 440, 'x': 619}, {'y': 440, 'x': 316}]}, 'symbols': [{'boundingBox': {'vertices': [{'y': 311, 'x': 316}, {'y': 311, 'x': 460}, {'y': 436, 'x': 460}, {'y': 436, 'x': 316}]}, 'text': '卫', 'property': {'detectedLanguages': [{'languageCode': 'zh-Hans'}]}}, {'boundingBox': {'vertices': [{'y': 304, 'x': 472}, {'y': 304, 'x': 619}, {'y': 440, 'x': 619}, {'y': 440, 'x': 472}]}, 'text': '生', 'property': {'detectedLanguages': [{'languageCode': 'zh-Hans'}]}}], 'property': {'detectedLanguages': [{'languageCode': 'zh-Hans'}]}}, {'boundingBox': {'vertices': [{'y': 304, 'x': 631}, {'y': 304, 'x': 930}, {'y': 444, 'x': 930}, {'y': 444, 'x': 631}]}, 'symbols': [{'boundingBox': {'vertices': [{'y': 304, 'x': 631}, {'y': 304, 'x': 771}, {'y': 444, 'x': 771}, {'y': 444, 'x': 631}]}, 'text': '创', 'property': {'detectedLanguages': [{'languageCode': 'zh-Hans'}]}}, {'boundingBox': {'vertices': [{'y': 308, 'x': 786}, {'y': 308, 'x': 930}, {'y': 444, 'x': 930}, {'y': 444, 'x': 786}]}, 'text': '建', 'property': {'detectedLanguages': [{'languageCode': 'zh-Hans'}]}}], 'property': {'detectedLanguages': [{'languageCode': 'zh-Hans'}]}}, {'boundingBox': {'vertices': [{'y': 300, 'x': 938}, {'y': 300, 'x': 1082}, {'y': 440, 'x': 1082}, {'y': 440, 'x': 938}]}, 'symbols': [{'boundingBox': {'vertices': [{'y': 300, 'x': 938}, {'y': 300, 'x': 1082}, {'y': 440, 'x': 1082}, {'y': 440, 'x': 938}]}, 'text': '优', 'property': {'detectedLanguages': [{'languageCode': 'zh-Hans'}], 'detectedBreak': {'type': 'EOL_SURE_SPACE'}}}], 'property': {'detectedLanguages': [{'languageCode': 'zh-Hans'}]}}, {'boundingBox': {'vertices': [{'y': 503, 'x': 158}, {'y': 509, 'x': 304}, {'y': 655, 'x': 297}, {'y': 649, 'x': 152}]}, 'symbols': [{'boundingBox': {'vertices': [{'y': 503, 'x': 158}, {'y': 509, 'x': 304}, {'y': 655, 'x': 297}, {'y': 649, 'x': 152}]}, 'text': '美', 'property': {'detectedLanguages': [{'languageCode': 'zh-Hans'}]}}], 'property': {'detectedLanguages': [{'languageCode': 'zh-Hans'}]}}, {'boundingBox': {'vertices': [{'y': 501, 'x': 313}, {'y': 508, 'x': 464}, {'y': 653, 'x': 457}, {'y': 647, 'x': 307}]}, 'symbols': [{'boundingBox': {'vertices': [{'y': 501, 'x': 313}, {'y': 508, 'x': 464}, {'y': 653, 'x': 457}, {'y': 647, 'x': 307}]}, 'text': '水', 'property': {'detectedLanguages': [{'languageCode': 'zh-Hans'}]}}], 'property': {'detectedLanguages': [{'languageCode': 'ja'}]}}, {'boundingBox': {'vertices': [{'y': 499, 'x': 466}, {'y': 512, 'x': 772}, {'y': 658, 'x': 765}, {'y': 645, 'x': 460}]}, 'symbols': [{'boundingBox': {'vertices': [{'y': 503, 'x': 465}, {'y': 510, 'x': 623}, {'y': 652, 'x': 617}, {'y': 645, 'x': 459}]}, 'text': '环', 'property': {'detectedLanguages': [{'languageCode': 'zh-Hans'}]}}, {'boundingBox': {'vertices': [{'y': 506, 'x': 620}, {'y': 513, 'x': 771}, {'y': 658, 'x': 764}, {'y': 652, 'x': 614}]}, 'text': '境', 'property': {'detectedLanguages': [{'languageCode': 'zh-Hans'}], 'detectedBreak': {'type': 'EOL_SURE_SPACE'}}}], 'property': {'detectedLanguages': [{'languageCode': 'zh-Hans'}]}}]}]}], 'property': {'detectedLanguages': [{'languageCode': 'zh-Hans'}]}, 'width': 1280, 'height': 818}]}}]}\n"
     ]
    }
   ],
   "source": [
    "#VisionAPIの実行\n",
    "import base64\n",
    "IMAGE=\"gs://cloud-training-demos/vision/sign2.jpg\"\n",
    "vservice = build('vision', 'v1', developerKey=APIKEY)\n",
    "request = vservice.images().annotate(body={\n",
    "        'requests': [{\n",
    "                'image': {\n",
    "                    'source': {\n",
    "                        'gcs_image_uri': IMAGE\n",
    "                    }\n",
    "                },\n",
    "                'features': [{\n",
    "                    'type': 'TEXT_DETECTION',\n",
    "                    'maxResults': 3,\n",
    "                }]\n",
    "            }],\n",
    "        })\n",
    "responses = request.execute(num_retries=3)\n",
    "\n",
    "# `responses`を出力してみましょう\n",
    "print(responses)"
   ]
  },
  {
   "cell_type": "code",
   "execution_count": 6,
   "metadata": {},
   "outputs": [
    {
     "name": "stdout",
     "output_type": "stream",
     "text": [
      "zh 请您爱护和保\n",
      "护卫生创建优\n",
      "美水环境\n",
      "\n"
     ]
    }
   ],
   "source": [
    "foreigntext = responses['responses'][0]['textAnnotations'][0]['description']\n",
    "foreignlang = responses['responses'][0]['textAnnotations'][0]['locale']\n",
    "\n",
    "# Let's output the `foreignlang` and `foreigntext`\n",
    "print(foreignlang, foreigntext)"
   ]
  },
  {
   "cell_type": "markdown",
   "metadata": {},
   "source": [
    "<h2> 標識を翻訳する </h2>"
   ]
  },
  {
   "cell_type": "code",
   "execution_count": 7,
   "metadata": {},
   "outputs": [
    {
     "name": "stdout",
     "output_type": "stream",
     "text": [
      "请您爱护和保\n",
      "护卫生创建优\n",
      "美水环境\n",
      " -> Please care for and protect the health to create a beautiful water environment\n"
     ]
    }
   ],
   "source": [
    "inputs=[foreigntext]\n",
    "outputs = service.translations().list(source=foreignlang, target='ja', q=inputs).execute()\n",
    "\n",
    "# 出力する\n",
    "for input, output in zip(inputs, outputs['translations']):\n",
    "  print(\"{0} -> {1}\".format(input, output['translatedText']))"
   ]
  },
  {
   "cell_type": "markdown",
   "metadata": {},
   "source": [
    "<h2>言語APIを使用した感情分析</h2>\n",
    "\n",
    "Google Cloud Natural Language APIを使用して、いくつかの有名な引用の感情を評価してみましょう。"
   ]
  },
  {
   "cell_type": "code",
   "execution_count": 8,
   "metadata": {},
   "outputs": [
    {
     "name": "stdout",
     "output_type": "stream",
     "text": [
      "POLARITY=1 MAGNITUDE=0.9 for To succeed, you must have tremendous perseverance, tremendous will.\n",
      "POLARITY=-1 MAGNITUDE=0.5 for It’s not that I’m so smart, it’s just that I stay with problems longer.\n",
      "POLARITY=1 MAGNITUDE=0.9 for Love is quivering happiness.\n",
      "POLARITY=1 MAGNITUDE=0.9 for Love is of all passions the strongest, for it attacks simultaneously the head, the heart, and the senses.\n",
      "POLARITY=1 MAGNITUDE=0.2 for What difference does it make to the dead, the orphans and the homeless, whether the mad destruction is wrought under the name of totalitarianism or in the holy name of liberty or democracy?\n",
      "POLARITY=-1 MAGNITUDE=0.4 for When someone you love dies, and you’re not expecting it, you don’t lose her all at once; you lose her in pieces over a long time — the way the mail stops coming, and her scent fades from the pillows and even from the clothes in her closet and drawers. \n"
     ]
    }
   ],
   "source": [
    "#Google Cloud Natural LanguageAPIを使用して感情を評価する\n",
    "lservice = build('language', 'v1beta1', developerKey=APIKEY)\n",
    "quotes = [\n",
    "  '成功するためには、途方もない忍耐力、途方もない意志が必要です。',\n",
    "  'It’s not that I’m so smart, it’s just that I stay with problems longer.',\n",
    "  'Love is quivering happiness.',\n",
    "  'Love is of all passions the strongest, for it attacks simultaneously the head, the heart, and the senses.',\n",
    "  'What difference does it make to the dead, the orphans and the homeless, whether the mad destruction is wrought under the name of totalitarianism or in the holy name of liberty or democracy?',\n",
    "  'When someone you love dies, and you’re not expecting it, you don’t lose her all at once; you lose her in pieces over a long time — the way the mail stops coming, and her scent fades from the pillows and even from the clothes in her closet and drawers. '\n",
    "]\n",
    "for quote in quotes:\n",
    "# The `documents.analyzeSentiment` method analyzes the sentiment of the provided text.\n",
    "  response = lservice.documents().analyzeSentiment(\n",
    "    body={\n",
    "      'document': {\n",
    "         'type': 'PLAIN_TEXT',\n",
    "         'content': quote\n",
    "      }\n",
    "    }).execute()\n",
    "  polarity = response['documentSentiment']['polarity']\n",
    "  magnitude = response['documentSentiment']['magnitude']\n",
    "\n",
    "# Lets output the value of each `polarity`, `magnitude` and `quote`\n",
    "  print('POLARITY=%s MAGNITUDE=%s for %s' % (polarity, magnitude, quote))"
   ]
  },
  {
   "cell_type": "markdown",
   "metadata": {},
   "source": [
    "<h2> Speech API </h2>\n",
    "\n",
    "Speech APIは、ストリーミングデータ、エンコードされてPOSTメッセージに直接埋め込まれたオーディオコンテンツ、またはCloudStorage上のファイルで機能します。ここでは、この<ahref = \"https://storage.googleapis.com/cloud-training-demos/vision/audio.raw\">オーディオファイル</a>をクラウドストレージに渡します。"
   ]
  },
  {
   "cell_type": "code",
   "execution_count": 10,
   "metadata": {},
   "outputs": [
    {
     "name": "stdout",
     "output_type": "stream",
     "text": [
      "{'results': [{'alternatives': [{'confidence': 0.98360395, 'transcript': 'how old is the Brooklyn Bridge'}]}]}\n"
     ]
    }
   ],
   "source": [
    "# オーディオファイルを引数として渡すことによるSpeechAPIの使用\n",
    "sservice = build('speech', 'v1', developerKey=APIKEY)\n",
    "# `speech.recognize`メソッドは同期音声認識を実行します。\n",
    "# すべてのオーディオが送信および処理された後、結果を受け取ります。\n",
    "response = sservice.speech().recognize(\n",
    "    body={\n",
    "        'config': {\n",
    "            'languageCode' : 'en-US',\n",
    "            'encoding': 'LINEAR16',\n",
    "            'sampleRateHertz': 16000\n",
    "        },\n",
    "        'audio': {\n",
    "            'uri': 'gs://cloud-training-demos/vision/audio.raw'\n",
    "            }\n",
    "        }).execute()\n",
    "\n",
    "# Let's output the value of `response`\n",
    "print(response)"
   ]
  },
  {
   "cell_type": "code",
   "execution_count": 11,
   "metadata": {},
   "outputs": [
    {
     "name": "stdout",
     "output_type": "stream",
     "text": [
      "how old is the Brooklyn Bridge\n",
      "Confidence=0.983604\n"
     ]
    }
   ],
   "source": [
    "print(response['results'][0]['alternatives'][0]['transcript'])\n",
    "\n",
    "# 'Confidence`の値を出力してみましょう\n",
    "print('Confidence=%f' % response['results'][0]['alternatives'][0]['confidence'])"
   ]
  },
  {
   "cell_type": "markdown",
   "metadata": {},
   "source": [
    "<h2>クリーンアップ</h2>\n",
    "\n",
    "<a href=\"http://console.cloud.google.com/apis\"> APIコンソール</a>にアクセスしてAPIキーを削除することを忘れないでください。\n",
    "\n",
    "必要に応じて、すべてのノートブックをgitにコミットします。\n",
    "\n",
    "Compute Engine VMでDatalabを実行している場合、またはVMに委任している場合は、課金されないように、Datalabを停止またはシャットダウンすることを忘れないでください。"
   ]
  },
  {
   "cell_type": "markdown",
   "metadata": {},
   "source": [
    "##チャレンジエクササイズ\n",
    "\n",
    "これは、ニューヨークのメトロポリタン美術館からのいくつかの肖像画です（これらは、[BigQueryパブリックデータセット]（https://bigquery.cloud.google.com/dataset/bigquery-public-data:the_met）の一部です）：\n",
    "\n",
    "* gs：//cloud-training-demos/images/met/APS6880.jpg\n",
    "* gs：//cloud-training-demos/images/met/DP205018.jpg\n",
    "* gs：//cloud-training-demos/images/met/DP290402.jpg\n",
    "* gs：//cloud-training-demos/images/met/DP700302.jpg\n",
    "\n",
    "Vision APIを使用して、これらの画像のどれが幸せな人々を描いているか、どの画像が不幸な人々を描いているかを識別します。\n",
    "\n",
    "ヒント（ハイライト表示）：<pstyle = \"color：white\">応答からjoyLikelihoodおよび/またはsorrowLikelihoodを探す必要があります。</ p>"
   ]
  },
  {
   "cell_type": "markdown",
   "metadata": {},
   "source": [
    "Copyright 2020 Google Inc.\n",
    "Apacheライセンスバージョン2.0（「ライセンス」）に基づいてライセンス供与されます。ライセンスに準拠する場合を除き、このファイルを使用することはできません。ライセンスのコピーは、次のURLで入手できます。\n",
    "http://www.apache.org/licenses/LICENSE-2.0\n",
    "適用法で義務付けられているか、書面で合意されていない限り、ライセンスに基づいて配布されるソフトウェアは、明示または黙示を問わず、いかなる種類の保証または条件もなしに、「現状有姿」で配布されます。ライセンスに基づく許可と制限を規定する特定の言語については、ライセンスを参照してください。"
   ]
  },
  {
   "cell_type": "code",
   "execution_count": null,
   "metadata": {
    "collapsed": true,
    "jupyter": {
     "outputs_hidden": true
    }
   },
   "outputs": [],
   "source": []
  }
 ],
 "metadata": {
  "environment": {
   "name": "tf2-gpu.2-3.m74",
   "type": "gcloud",
   "uri": "gcr.io/deeplearning-platform-release/tf2-gpu.2-3:m74"
  },
  "kernelspec": {
   "display_name": "Python 3",
   "language": "python",
   "name": "python3"
  },
  "language_info": {
   "codemirror_mode": {
    "name": "ipython",
    "version": 3
   },
   "file_extension": ".py",
   "mimetype": "text/x-python",
   "name": "python",
   "nbconvert_exporter": "python",
   "pygments_lexer": "ipython3",
   "version": "3.7.10"
  }
 },
 "nbformat": 4,
 "nbformat_minor": 4
}
