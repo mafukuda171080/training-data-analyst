{
 "cells": [
  {
   "cell_type": "markdown",
   "metadata": {},
   "source": [
    "## コンテンツベースのフィルターのデータセットを作成する\n",
    "\n",
    "このノートブックは、コンテンツベースのモデルの作成に使用するデータを作成します。 BigQueryで公開されているKurier.atデータセットからSQLクエリのコレクションを介してデータを収集します。\n",
    "Kurier.atはオーストリアの新しいサイトです。これらのラボの目標は、サイトへの訪問者に記事を推奨することです。このラボでは、トレーニング用のデータを収集し、後続のノートブックでレコメンダーモデルをトレーニングします。\n",
    "\n",
    "このノートブックは\n",
    "* BigQueryテーブルからデータをプルしてローカルファイルに書き込む方法\n",
    "*再現可能なトレインとテストの分割を行う方法"
   ]
  },
  {
   "cell_type": "code",
   "execution_count": 1,
   "metadata": {},
   "outputs": [],
   "source": [
    "import os\n",
    "import tensorflow as tf\n",
    "import numpy as np\n",
    "from google.cloud import bigquery \n",
    "\n",
    "PROJECT = 'qwiklabs-gcp-00-c6695d766645' # REPLACE WITH YOUR PROJECT ID\n",
    "BUCKET = 'qwiklabs-gcp-00-c6695d766645' # REPLACE WITH YOUR BUCKET NAME\n",
    "REGION = 'us-central1' # REPLACE WITH YOUR BUCKET REGION e.g. us-central1\n",
    "\n",
    "# do not change these\n",
    "os.environ['PROJECT'] = PROJECT\n",
    "os.environ['BUCKET'] = BUCKET\n",
    "os.environ['REGION'] = REGION\n",
    "os.environ['TFVERSION'] = '2.1'"
   ]
  },
  {
   "cell_type": "code",
   "execution_count": 2,
   "metadata": {},
   "outputs": [
    {
     "name": "stderr",
     "output_type": "stream",
     "text": [
      "Updated property [core/project].\n",
      "Updated property [compute/region].\n"
     ]
    }
   ],
   "source": [
    "%%bash\n",
    "gcloud  config  set project $PROJECT\n",
    "gcloud config set compute/region $REGION"
   ]
  },
  {
   "cell_type": "markdown",
   "metadata": {},
   "source": [
    "このヘルパー関数を使用して、データベース内の各記事の記事ID、カテゴリ、および作成者を含むリストをローカルファイルに書き込みます"
   ]
  },
  {
   "cell_type": "code",
   "execution_count": 3,
   "metadata": {},
   "outputs": [],
   "source": [
    "def write_list_to_disk(my_list, filename):\n",
    "  with open(filename, 'w') as f:\n",
    "    for item in my_list:\n",
    "        line = \"%s\\n\" % item\n",
    "        f.write(line)"
   ]
  },
  {
   "cell_type": "markdown",
   "metadata": {},
   "source": [
    "### BigQueryからデータをプルする\n",
    "\n",
    "下のセルは、データセット内のすべての記事ID（つまり、「コンテンツID」）を含むローカルテキストファイルを作成します。\n",
    "\n",
    "[BigQuery]（https://console.cloud.google.com/bigquery?p=cloud-training-demos&d=GA360_test&t=ga_sessions_sample）の元のデータセットをご覧ください。次に、以下のクエリを読み、それが何をしているのかを理解していることを確認してください。"
   ]
  },
  {
   "cell_type": "code",
   "execution_count": 5,
   "metadata": {},
   "outputs": [
    {
     "name": "stdout",
     "output_type": "stream",
     "text": [
      "Some sample content IDs ['299866366', '299865757', '299824032']\n",
      "記事の合計数は 15634\n"
     ]
    }
   ],
   "source": [
    "sql=\"\"\"\n",
    "#standardSQL\n",
    "\n",
    "SELECT  \n",
    "  (SELECT MAX(IF(index=10, value, NULL)) FROM UNNEST(hits.customDimensions)) AS content_id \n",
    "FROM `cloud-training-demos.GA360_test.ga_sessions_sample`,   \n",
    "  UNNEST(hits) AS hits\n",
    "WHERE \n",
    "  # only include hits on pages\n",
    "  hits.type = \"PAGE\"\n",
    "  AND (SELECT MAX(IF(index=10, value, NULL)) FROM UNNEST(hits.customDimensions)) IS NOT NULL\n",
    "GROUP BY\n",
    "  content_id\n",
    "    \n",
    "\"\"\"\n",
    "\n",
    "content_ids_list = bigquery.Client().query(sql).to_dataframe()['content_id'].tolist()\n",
    "write_list_to_disk(content_ids_list, \"content_ids.txt\")\n",
    "print(\"Some sample content IDs {}\".format(content_ids_list[:3]))\n",
    "print(\"記事の合計数は {}\".format(len(content_ids_list)))"
   ]
  },
  {
   "cell_type": "markdown",
   "metadata": {},
   "source": [
    "データベースには15,634件の記事があるはずです。\n",
    "次に、記事のカテゴリのリストと記事の作成者のリストを含むローカルファイルを作成します。\n",
    "\n",
    "記事のカテゴリまたは著者情報を取得するときは、インデックスの変更に注意してください。また、記事の最初の著者を使用して著者リストを作成しています。\n",
    "元のデータセットに戻って参照し、 `hits.customDimensions.index`フィールドを使用して正しいインデックスを確認します。"
   ]
  },
  {
   "cell_type": "code",
   "execution_count": 6,
   "metadata": {},
   "outputs": [
    {
     "name": "stdout",
     "output_type": "stream",
     "text": [
      "['Lifestyle', 'News', 'Stars & Kultur']\n"
     ]
    }
   ],
   "source": [
    "sql=\"\"\"\n",
    "#standardSQL\n",
    "SELECT  \n",
    "  (SELECT MAX(IF(index=7, value, NULL)) FROM UNNEST(hits.customDimensions)) AS category  \n",
    "FROM `cloud-training-demos.GA360_test.ga_sessions_sample`,   \n",
    "  UNNEST(hits) AS hits\n",
    "WHERE \n",
    "  # only include hits on pages\n",
    "  hits.type = \"PAGE\"\n",
    "  AND (SELECT MAX(IF(index=7, value, NULL)) FROM UNNEST(hits.customDimensions)) IS NOT NULL\n",
    "GROUP BY   \n",
    "  category\n",
    "\"\"\"\n",
    "categories_list = bigquery.Client().query(sql).to_dataframe()['category'].tolist()\n",
    "write_list_to_disk(categories_list, \"categories.txt\")\n",
    "print(categories_list)"
   ]
  },
  {
   "cell_type": "markdown",
   "metadata": {},
   "source": [
    "カテゴリは、「ニュース」、「スターと文化」、「ライフスタイル」です。\n",
    "著者リストを作成するときは、各記事の最初の著者情報のみを使用します。"
   ]
  },
  {
   "cell_type": "code",
   "execution_count": 7,
   "metadata": {},
   "outputs": [
    {
     "name": "stdout",
     "output_type": "stream",
     "text": [
      "Some sample authors ['Moritz Gottsauner-Wolf', 'Georg Leyrer', 'Julia Schrenk', 'Peter Temel', 'Raffaela Lindorfer', 'Margaretha Kopeinig', 'Wolfgang Atzenhofer', 'Michaela Reibenwein', 'Elisabeth Holzer', 'Christian Willim']\n",
      "The total number of authors is 385\n"
     ]
    }
   ],
   "source": [
    "sql=\"\"\"\n",
    "#standardSQL\n",
    "SELECT\n",
    "  REGEXP_EXTRACT((SELECT MAX(IF(index=2, value, NULL)) FROM UNNEST(hits.customDimensions)), r\"^[^,]+\")  AS first_author  \n",
    "FROM `cloud-training-demos.GA360_test.ga_sessions_sample`,   \n",
    "  UNNEST(hits) AS hits\n",
    "WHERE \n",
    "  # only include hits on pages\n",
    "  hits.type = \"PAGE\"\n",
    "  AND (SELECT MAX(IF(index=2, value, NULL)) FROM UNNEST(hits.customDimensions)) IS NOT NULL\n",
    "GROUP BY   \n",
    "  first_author\n",
    "\"\"\"\n",
    "authors_list = bigquery.Client().query(sql).to_dataframe()['first_author'].tolist()\n",
    "write_list_to_disk(authors_list, \"authors.txt\")\n",
    "print(\"Some sample authors {}\".format(authors_list[:10]))\n",
    "print(\"The total number of authors is {}\".format(len(authors_list)))"
   ]
  },
  {
   "cell_type": "markdown",
   "metadata": {},
   "source": [
    "データベースには385人の著者がいるはずです。"
   ]
  },
  {
   "cell_type": "markdown",
   "metadata": {},
   "source": [
    "### トレインセットとテストセットを作成します。\n",
    "\n",
    "このセクションでは、モデルをトレーニングするためのデータのトレーニング/テスト分割を作成します。訪問者IDとコンテンツIDの連結値を使用して、ファームフィンガープリントを作成し、トレーニングセットのデータの約90％とテストセットのデータの10％を取得します。"
   ]
  },
  {
   "cell_type": "code",
   "execution_count": 8,
   "metadata": {},
   "outputs": [
    {
     "data": {
      "text/html": [
       "<div>\n",
       "<style scoped>\n",
       "    .dataframe tbody tr th:only-of-type {\n",
       "        vertical-align: middle;\n",
       "    }\n",
       "\n",
       "    .dataframe tbody tr th {\n",
       "        vertical-align: top;\n",
       "    }\n",
       "\n",
       "    .dataframe thead th {\n",
       "        text-align: right;\n",
       "    }\n",
       "</style>\n",
       "<table border=\"1\" class=\"dataframe\">\n",
       "  <thead>\n",
       "    <tr style=\"text-align: right;\">\n",
       "      <th></th>\n",
       "      <th>visitor_id</th>\n",
       "      <th>content_id</th>\n",
       "      <th>category</th>\n",
       "      <th>title</th>\n",
       "      <th>author</th>\n",
       "      <th>months_since_epoch</th>\n",
       "      <th>next_content_id</th>\n",
       "    </tr>\n",
       "  </thead>\n",
       "  <tbody>\n",
       "    <tr>\n",
       "      <th>0</th>\n",
       "      <td>1028781454955450337</td>\n",
       "      <td>299986548</td>\n",
       "      <td>News</td>\n",
       "      <td>Nachrichtenagentur: Nordkorea feuerte erneut R...</td>\n",
       "      <td>Stefan Berndl</td>\n",
       "      <td>574</td>\n",
       "      <td>299986548</td>\n",
       "    </tr>\n",
       "    <tr>\n",
       "      <th>1</th>\n",
       "      <td>1076604330971416042</td>\n",
       "      <td>299835130</td>\n",
       "      <td>News</td>\n",
       "      <td>André Heller holt Gandhi nach Tirol</td>\n",
       "      <td>Christian Willim</td>\n",
       "      <td>574</td>\n",
       "      <td>299777664</td>\n",
       "    </tr>\n",
       "    <tr>\n",
       "      <th>2</th>\n",
       "      <td>1096315653917377549</td>\n",
       "      <td>299575786</td>\n",
       "      <td>Lifestyle</td>\n",
       "      <td>Familie in Social-Media: Vier Millionen Klicks...</td>\n",
       "      <td>Daniela Davidovits</td>\n",
       "      <td>574</td>\n",
       "      <td>299012533</td>\n",
       "    </tr>\n",
       "    <tr>\n",
       "      <th>3</th>\n",
       "      <td>1096315653917377549</td>\n",
       "      <td>299012533</td>\n",
       "      <td>Stars &amp; Kultur</td>\n",
       "      <td>\"Borat\"-Erfinder Cohen will für Fans Strafe za...</td>\n",
       "      <td>Elisabeth Mittendorfer</td>\n",
       "      <td>574</td>\n",
       "      <td>299800661</td>\n",
       "    </tr>\n",
       "    <tr>\n",
       "      <th>4</th>\n",
       "      <td>1096315653917377549</td>\n",
       "      <td>299800661</td>\n",
       "      <td>Stars &amp; Kultur</td>\n",
       "      <td>Meghan Markle im Porträt - Vom TV-Sternchen zu...</td>\n",
       "      <td>Christina Michlits</td>\n",
       "      <td>574</td>\n",
       "      <td>299821418</td>\n",
       "    </tr>\n",
       "  </tbody>\n",
       "</table>\n",
       "</div>"
      ],
      "text/plain": [
       "            visitor_id content_id        category  \\\n",
       "0  1028781454955450337  299986548            News   \n",
       "1  1076604330971416042  299835130            News   \n",
       "2  1096315653917377549  299575786       Lifestyle   \n",
       "3  1096315653917377549  299012533  Stars & Kultur   \n",
       "4  1096315653917377549  299800661  Stars & Kultur   \n",
       "\n",
       "                                               title                  author  \\\n",
       "0  Nachrichtenagentur: Nordkorea feuerte erneut R...           Stefan Berndl   \n",
       "1                André Heller holt Gandhi nach Tirol        Christian Willim   \n",
       "2  Familie in Social-Media: Vier Millionen Klicks...      Daniela Davidovits   \n",
       "3  \"Borat\"-Erfinder Cohen will für Fans Strafe za...  Elisabeth Mittendorfer   \n",
       "4  Meghan Markle im Porträt - Vom TV-Sternchen zu...      Christina Michlits   \n",
       "\n",
       "   months_since_epoch next_content_id  \n",
       "0                 574       299986548  \n",
       "1                 574       299777664  \n",
       "2                 574       299012533  \n",
       "3                 574       299800661  \n",
       "4                 574       299821418  "
      ]
     },
     "execution_count": 8,
     "metadata": {},
     "output_type": "execute_result"
    }
   ],
   "source": [
    "sql=\"\"\"\n",
    "WITH site_history as (\n",
    "  SELECT\n",
    "      fullVisitorId as visitor_id,\n",
    "      (SELECT MAX(IF(index=10, value, NULL)) FROM UNNEST(hits.customDimensions)) AS content_id,\n",
    "      (SELECT MAX(IF(index=7, value, NULL)) FROM UNNEST(hits.customDimensions)) AS category, \n",
    "      (SELECT MAX(IF(index=6, value, NULL)) FROM UNNEST(hits.customDimensions)) AS title,\n",
    "      (SELECT MAX(IF(index=2, value, NULL)) FROM UNNEST(hits.customDimensions)) AS author_list,\n",
    "      SPLIT(RPAD((SELECT MAX(IF(index=4, value, NULL)) FROM UNNEST(hits.customDimensions)), 7), '.') as year_month_array,\n",
    "      LEAD(hits.customDimensions, 1) OVER (PARTITION BY fullVisitorId ORDER BY hits.time ASC) as nextCustomDimensions\n",
    "  FROM \n",
    "    `cloud-training-demos.GA360_test.ga_sessions_sample`,   \n",
    "     UNNEST(hits) AS hits\n",
    "   WHERE \n",
    "     # only include hits on pages\n",
    "      hits.type = \"PAGE\"\n",
    "      AND\n",
    "      fullVisitorId IS NOT NULL\n",
    "      AND\n",
    "      hits.time != 0\n",
    "      AND\n",
    "      hits.time IS NOT NULL\n",
    "      AND\n",
    "      (SELECT MAX(IF(index=10, value, NULL)) FROM UNNEST(hits.customDimensions)) IS NOT NULL\n",
    ")\n",
    "SELECT\n",
    "  visitor_id,\n",
    "  content_id,\n",
    "  category,\n",
    "  REGEXP_REPLACE(title, r\",\", \"\") as title,\n",
    "  REGEXP_EXTRACT(author_list, r\"^[^,]+\") as author,\n",
    "  DATE_DIFF(DATE(CAST(year_month_array[OFFSET(0)] AS INT64), CAST(year_month_array[OFFSET(1)] AS INT64), 1), DATE(1970,1,1), MONTH) as months_since_epoch,\n",
    "  (SELECT MAX(IF(index=10, value, NULL)) FROM UNNEST(nextCustomDimensions)) as next_content_id\n",
    "FROM\n",
    "  site_history\n",
    "WHERE (SELECT MAX(IF(index=10, value, NULL)) FROM UNNEST(nextCustomDimensions)) IS NOT NULL\n",
    "      AND ABS(MOD(FARM_FINGERPRINT(CONCAT(visitor_id, content_id)), 10)) < 9\n",
    "\"\"\"\n",
    "training_set_df = bigquery.Client().query(sql).to_dataframe()\n",
    "training_set_df.to_csv('training_set.csv', header=False, index=False, encoding='utf-8')\n",
    "training_set_df.head()"
   ]
  },
  {
   "cell_type": "code",
   "execution_count": 9,
   "metadata": {},
   "outputs": [
    {
     "data": {
      "text/html": [
       "<div>\n",
       "<style scoped>\n",
       "    .dataframe tbody tr th:only-of-type {\n",
       "        vertical-align: middle;\n",
       "    }\n",
       "\n",
       "    .dataframe tbody tr th {\n",
       "        vertical-align: top;\n",
       "    }\n",
       "\n",
       "    .dataframe thead th {\n",
       "        text-align: right;\n",
       "    }\n",
       "</style>\n",
       "<table border=\"1\" class=\"dataframe\">\n",
       "  <thead>\n",
       "    <tr style=\"text-align: right;\">\n",
       "      <th></th>\n",
       "      <th>visitor_id</th>\n",
       "      <th>content_id</th>\n",
       "      <th>category</th>\n",
       "      <th>title</th>\n",
       "      <th>author</th>\n",
       "      <th>months_since_epoch</th>\n",
       "      <th>next_content_id</th>\n",
       "    </tr>\n",
       "  </thead>\n",
       "  <tbody>\n",
       "    <tr>\n",
       "      <th>0</th>\n",
       "      <td>1138388341807275290</td>\n",
       "      <td>295177956</td>\n",
       "      <td>Lifestyle</td>\n",
       "      <td>Rostock im Sommer 2018 ab Linz</td>\n",
       "      <td>None</td>\n",
       "      <td>573</td>\n",
       "      <td>299824032</td>\n",
       "    </tr>\n",
       "    <tr>\n",
       "      <th>1</th>\n",
       "      <td>1145301083080858057</td>\n",
       "      <td>299828023</td>\n",
       "      <td>News</td>\n",
       "      <td>Glyphosat geht in die Verlängerung</td>\n",
       "      <td>Andreas Anzenberger</td>\n",
       "      <td>574</td>\n",
       "      <td>299814842</td>\n",
       "    </tr>\n",
       "    <tr>\n",
       "      <th>2</th>\n",
       "      <td>1160160574707650958</td>\n",
       "      <td>299918278</td>\n",
       "      <td>News</td>\n",
       "      <td>Skipässe in Wintersport-Hochburgen massiv teurer</td>\n",
       "      <td>Stefan Hofer</td>\n",
       "      <td>574</td>\n",
       "      <td>299899396</td>\n",
       "    </tr>\n",
       "    <tr>\n",
       "      <th>3</th>\n",
       "      <td>1194756252802104671</td>\n",
       "      <td>161933022</td>\n",
       "      <td>Lifestyle</td>\n",
       "      <td>6 geniale Beauty-Rituale für die Nacht</td>\n",
       "      <td>Maria Zelenko</td>\n",
       "      <td>550</td>\n",
       "      <td>299789055</td>\n",
       "    </tr>\n",
       "    <tr>\n",
       "      <th>4</th>\n",
       "      <td>1375185952017551641</td>\n",
       "      <td>299804373</td>\n",
       "      <td>Lifestyle</td>\n",
       "      <td>Bloggerin wegen Anstiftung zur Magersucht ange...</td>\n",
       "      <td>Elisabeth Mittendorfer</td>\n",
       "      <td>574</td>\n",
       "      <td>299697224</td>\n",
       "    </tr>\n",
       "  </tbody>\n",
       "</table>\n",
       "</div>"
      ],
      "text/plain": [
       "            visitor_id content_id   category  \\\n",
       "0  1138388341807275290  295177956  Lifestyle   \n",
       "1  1145301083080858057  299828023       News   \n",
       "2  1160160574707650958  299918278       News   \n",
       "3  1194756252802104671  161933022  Lifestyle   \n",
       "4  1375185952017551641  299804373  Lifestyle   \n",
       "\n",
       "                                               title                  author  \\\n",
       "0                     Rostock im Sommer 2018 ab Linz                    None   \n",
       "1                 Glyphosat geht in die Verlängerung     Andreas Anzenberger   \n",
       "2   Skipässe in Wintersport-Hochburgen massiv teurer            Stefan Hofer   \n",
       "3             6 geniale Beauty-Rituale für die Nacht           Maria Zelenko   \n",
       "4  Bloggerin wegen Anstiftung zur Magersucht ange...  Elisabeth Mittendorfer   \n",
       "\n",
       "   months_since_epoch next_content_id  \n",
       "0                 573       299824032  \n",
       "1                 574       299814842  \n",
       "2                 574       299899396  \n",
       "3                 550       299789055  \n",
       "4                 574       299697224  "
      ]
     },
     "execution_count": 9,
     "metadata": {},
     "output_type": "execute_result"
    }
   ],
   "source": [
    "sql=\"\"\"\n",
    "WITH site_history as (\n",
    "  SELECT\n",
    "      fullVisitorId as visitor_id,\n",
    "      (SELECT MAX(IF(index=10, value, NULL)) FROM UNNEST(hits.customDimensions)) AS content_id,\n",
    "      (SELECT MAX(IF(index=7, value, NULL)) FROM UNNEST(hits.customDimensions)) AS category, \n",
    "      (SELECT MAX(IF(index=6, value, NULL)) FROM UNNEST(hits.customDimensions)) AS title,\n",
    "      (SELECT MAX(IF(index=2, value, NULL)) FROM UNNEST(hits.customDimensions)) AS author_list,\n",
    "      SPLIT(RPAD((SELECT MAX(IF(index=4, value, NULL)) FROM UNNEST(hits.customDimensions)), 7), '.') as year_month_array,\n",
    "      LEAD(hits.customDimensions, 1) OVER (PARTITION BY fullVisitorId ORDER BY hits.time ASC) as nextCustomDimensions\n",
    "  FROM \n",
    "    `cloud-training-demos.GA360_test.ga_sessions_sample`,   \n",
    "     UNNEST(hits) AS hits\n",
    "   WHERE \n",
    "     # only include hits on pages\n",
    "      hits.type = \"PAGE\"\n",
    "      AND\n",
    "      fullVisitorId IS NOT NULL\n",
    "      AND\n",
    "      hits.time != 0\n",
    "      AND\n",
    "      hits.time IS NOT NULL\n",
    "      AND\n",
    "      (SELECT MAX(IF(index=10, value, NULL)) FROM UNNEST(hits.customDimensions)) IS NOT NULL\n",
    ")\n",
    "SELECT\n",
    "  visitor_id,\n",
    "  content_id,\n",
    "  category,\n",
    "  REGEXP_REPLACE(title, r\",\", \"\") as title,\n",
    "  REGEXP_EXTRACT(author_list, r\"^[^,]+\") as author,\n",
    "  DATE_DIFF(DATE(CAST(year_month_array[OFFSET(0)] AS INT64), CAST(year_month_array[OFFSET(1)] AS INT64), 1), DATE(1970,1,1), MONTH) as months_since_epoch,\n",
    "  (SELECT MAX(IF(index=10, value, NULL)) FROM UNNEST(nextCustomDimensions)) as next_content_id\n",
    "FROM\n",
    "  site_history\n",
    "WHERE (SELECT MAX(IF(index=10, value, NULL)) FROM UNNEST(nextCustomDimensions)) IS NOT NULL\n",
    "      AND ABS(MOD(FARM_FINGERPRINT(CONCAT(visitor_id, content_id)), 10)) >= 9\n",
    "\"\"\"\n",
    "test_set_df = bigquery.Client().query(sql).to_dataframe()\n",
    "test_set_df.to_csv('test_set.csv', header=False, index=False, encoding='utf-8')\n",
    "test_set_df.head()"
   ]
  },
  {
   "cell_type": "markdown",
   "metadata": {},
   "source": [
    "トレーニングセットとテストセットを含む、作成した2つのcsvファイルを見てみましょう。また、両方のファイルの行数をカウントして、約90/10のトレイン/テスト分割が達成されたことを確認します。\n",
    "**コンテンツベースのフィルタリング**\n",
    "次のノートブックでは、カテゴリ、タイトル、作成者、公開日など、現在読んでいる記事に関する情報を指定して、記事を推奨するモデルを構築します。"
   ]
  },
  {
   "cell_type": "code",
   "execution_count": 10,
   "metadata": {},
   "outputs": [
    {
     "name": "stdout",
     "output_type": "stream",
     "text": [
      "   25599 test_set.csv\n",
      "  232308 training_set.csv\n",
      "  257907 total\n"
     ]
    }
   ],
   "source": [
    "%%bash\n",
    "wc -l *_set.csv"
   ]
  },
  {
   "cell_type": "code",
   "execution_count": 11,
   "metadata": {},
   "outputs": [
    {
     "name": "stdout",
     "output_type": "stream",
     "text": [
      "==> test_set.csv <==\n",
      "1138388341807275290,295177956,Lifestyle,Rostock im Sommer 2018 ab Linz,,573,299824032\n",
      "1145301083080858057,299828023,News,Glyphosat geht in die Verlängerung,Andreas Anzenberger,574,299814842\n",
      "1160160574707650958,299918278,News,Skipässe in Wintersport-Hochburgen massiv teurer,Stefan Hofer,574,299899396\n",
      "1194756252802104671,161933022,Lifestyle,6 geniale Beauty-Rituale für die Nacht,Maria Zelenko,550,299789055\n",
      "1375185952017551641,299804373,Lifestyle,Bloggerin wegen Anstiftung zur Magersucht angezeigt,Elisabeth Mittendorfer,574,299697224\n",
      "1410187362777626442,299912041,News,Deutscher Bürgermeister bei Messerangriff schwer verletzt,,574,299912151\n",
      "1410187362777626442,299912151,News,NÖ: Beißender Geruch in der Klasse,Jürgen Zahrl,574,299913879\n",
      "1410187362777626442,299912085,News,Erster ÖBB-Containerzug nach China unterwegs,Stefan Hofer,574,299800704\n",
      "1410187362777626442,293997546,News,Arbeiterkammer: Henry am Zug soll Strafe ausgefasst haben,Kid Möchel,573,299837992\n",
      "1410187362777626442,299814183,Stars & Kultur,Harry & Meghan Markle: Erste offizielle Verlobungsfotos,Elisabeth Spitzer,574,299775313\n",
      "\n",
      "==> training_set.csv <==\n",
      "1028781454955450337,299986548,News,Nachrichtenagentur: Nordkorea feuerte erneut Rakete ab,Stefan Berndl,574,299986548\n",
      "1076604330971416042,299835130,News,André Heller holt Gandhi nach Tirol,Christian Willim,574,299777664\n",
      "1096315653917377549,299575786,Lifestyle,Familie in Social-Media: Vier Millionen Klicks für Mama-Bloggerinnen,Daniela Davidovits,574,299012533\n",
      "1096315653917377549,299012533,Stars & Kultur,\"\"\"Borat\"\"-Erfinder Cohen will für Fans Strafe zahlen\",Elisabeth Mittendorfer,574,299800661\n",
      "1096315653917377549,299800661,Stars & Kultur,Meghan Markle im Porträt - Vom TV-Sternchen zur Prinzessin,Christina Michlits,574,299821418\n",
      "1096315653917377549,299821418,Lifestyle,Missbrauchsvorwürfe gegen US-Wellnesskette,Elisabeth Mittendorfer,574,299772450\n",
      "1096315653917377549,299772450,Stars & Kultur,\"Kritik an Prinz Harry: \"\"Ein verzogener Rotzlöffel\"\"\",Elisabeth Spitzer,574,299821418\n",
      "1096315653917377549,299821418,Lifestyle,Missbrauchsvorwürfe gegen US-Wellnesskette,Elisabeth Mittendorfer,574,299907275\n",
      "1096315653917377549,181585672,Lifestyle,Royaler Dresscode: Was Kate Middleton nicht tragen darf,Maria Zelenko,553,299785089\n",
      "1096315653917377549,299785089,Stars & Kultur,Prinz Harry & Meghan Markle: Verlobung ist offiziell,Elisabeth Spitzer,574,299783334\n"
     ]
    }
   ],
   "source": [
    "!head *_set.csv"
   ]
  }
 ],
 "metadata": {
  "environment": {
   "kernel": "python3",
   "name": "tf-gpu.1-15.m86",
   "type": "gcloud",
   "uri": "gcr.io/deeplearning-platform-release/tf-gpu.1-15:m86"
  },
  "kernelspec": {
   "display_name": "Python 3",
   "language": "python",
   "name": "python3"
  },
  "language_info": {
   "codemirror_mode": {
    "name": "ipython",
    "version": 3
   },
   "file_extension": ".py",
   "mimetype": "text/x-python",
   "name": "python",
   "nbconvert_exporter": "python",
   "pygments_lexer": "ipython3",
   "version": "3.7.12"
  }
 },
 "nbformat": 4,
 "nbformat_minor": 4
}
