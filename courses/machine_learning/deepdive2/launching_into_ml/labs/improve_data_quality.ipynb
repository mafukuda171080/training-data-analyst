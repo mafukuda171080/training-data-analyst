{
 "cells": [
  {
   "cell_type": "markdown",
   "metadata": {
    "colab_type": "text",
    "id": "rNdWfPXCjTjY"
   },
   "source": [
    "＃データ品質の向上\n",
    "\n",
    "**学習目標**\n",
    "\n",
    "\n",
    "1.欠落している値を解決します\n",
    "2.日付機能列を日時形式に変換します\n",
    "3.機能列の名前を変更し、機能列から値を削除します\n",
    "4.ワンホットエンコーディング機能を作成します\n",
    "5.時間的特徴の変換を理解する\n",
    "\n",
    "\n",
    "＃＃ 序章\n",
    "\n",
    "機械学習モデルは数値データのみを消費でき、数値データは「1」または「0」である必要があることを思い出してください。データに属性値がなく、ノイズや外れ値が含まれ、重複、間違ったデータ、大文字/小文字の列名があり、本質的に機械学習アルゴリズムによる取り込みの準備ができていない場合、データは「乱雑」または「乱雑」であると言われます。\n",
    "\n",
    "このノートブックは、「乱雑な」データの最も一般的な問題のいくつかを提示して解決します。問題が異なれば必要な方法も異なり、このノートブックの範囲を超えていることに注意してください。\n",
    "\n",
    "各学習目標は、この学生ラボノートブックの_＃TODO_に対応します。最初にこのノートブックに記入してから、[ソリューションノートブック]（https://github.com/GoogleCloudPlatform/training-data-analyst/blob/ master / tools / machine_learning / deepdive2 / launching_into_ml / Solutions / improve_data_quality.ipynb）。"
   ]
  },
  {
   "cell_type": "code",
   "execution_count": 1,
   "metadata": {},
   "outputs": [],
   "source": [
    "!sudo chown -R jupyter:jupyter /home/jupyter/training-data-analyst"
   ]
  },
  {
   "cell_type": "markdown",
   "metadata": {
    "colab_type": "text",
    "id": "VxyBFc_kKazA"
   },
   "source": [
    "このラボに必要なライブラリをインポートすることから始めます"
   ]
  },
  {
   "cell_type": "markdown",
   "metadata": {},
   "source": [
    "### Import Libraries"
   ]
  },
  {
   "cell_type": "code",
   "execution_count": 3,
   "metadata": {},
   "outputs": [
    {
     "name": "stdout",
     "output_type": "stream",
     "text": [
      "TensorFlow version:  2.1.4\n"
     ]
    }
   ],
   "source": [
    "#必要なテンソルフローライブラリをインポートし、TFバージョンを印刷します。\n",
    "import tensorflow as tf\n",
    "\n",
    "print(\"TensorFlow version: \",tf.version.VERSION)\n"
   ]
  },
  {
   "cell_type": "code",
   "execution_count": 4,
   "metadata": {},
   "outputs": [],
   "source": [
    "import os\n",
    "import pandas as pd  #最初に、データ処理およびCSVファイルI / OライブラリであるPandasをインポートします\n",
    "import numpy as np\n",
    "from datetime import datetime\n",
    "import matplotlib.pyplot as plt\n",
    "import seaborn as sns\n",
    "%matplotlib inline"
   ]
  },
  {
   "cell_type": "markdown",
   "metadata": {},
   "source": [
    "###データセットをロードする"
   ]
  },
  {
   "cell_type": "markdown",
   "metadata": {},
   "source": [
    "このデータセットは、カリフォルニアの[郵便番号別の車両燃料タイプ数]（https://data.ca.gov/dataset/vehicle-fuel-type-count-by-zip-codeSynthetic）レポートに基づいています。データセットは、データを「乱雑」にするように変更されているため、学習目的で使用できる合成表現です。\n"
   ]
  },
  {
   "cell_type": "code",
   "execution_count": 5,
   "metadata": {},
   "outputs": [],
   "source": [
    "if not os.path.isdir(\"../data/transport\"):\n",
    "    os.makedirs(\"../data/transport\")"
   ]
  },
  {
   "cell_type": "code",
   "execution_count": 6,
   "metadata": {},
   "outputs": [
    {
     "name": "stdout",
     "output_type": "stream",
     "text": [
      "Copying gs://cloud-training-demos/feat_eng/transport/untidy_vehicle_data.csv...\n",
      "/ [1 files][ 47.2 KiB/ 47.2 KiB]                                                \n",
      "Operation completed over 1 objects/47.2 KiB.                                     \n"
     ]
    }
   ],
   "source": [
    "!gsutil cp gs://cloud-training-demos/feat_eng/transport/untidy_vehicle_data.csv ../data/transport"
   ]
  },
  {
   "cell_type": "code",
   "execution_count": 7,
   "metadata": {},
   "outputs": [
    {
     "name": "stdout",
     "output_type": "stream",
     "text": [
      "total 48\n",
      "-rw-r--r-- 1 jupyter jupyter 48343 Jul 31 14:31 untidy_vehicle_data.csv\n"
     ]
    }
   ],
   "source": [
    "!ls -l ../data/transport"
   ]
  },
  {
   "cell_type": "markdown",
   "metadata": {},
   "source": [
    "### データセットをPandasDataFrameに読み込みます"
   ]
  },
  {
   "cell_type": "markdown",
   "metadata": {
    "colab_type": "text",
    "id": "lM6-n6xntv3t"
   },
   "source": [
    "次に、クラウドストレージバケットからコピーしたばかりのデータセットを読み込んで、PandasDataFrameを作成しましょう。また、Pandas .head（）関数を追加して、DataFrameの上位5行のデータを表示します。 Head（）とTail（）は、データセットの調査に使用される「ベストプラクティス」関数です。"
   ]
  },
  {
   "cell_type": "code",
   "execution_count": 8,
   "metadata": {
    "colab": {
     "base_uri": "https://localhost:8080/",
     "height": 222
    },
    "colab_type": "code",
    "id": "REZ57BXCLdfG",
    "outputId": "a6ef2eda-c7eb-4e2d-92e4-e7fcaa20b0af"
   },
   "outputs": [
    {
     "data": {
      "text/html": [
       "<div>\n",
       "<style scoped>\n",
       "    .dataframe tbody tr th:only-of-type {\n",
       "        vertical-align: middle;\n",
       "    }\n",
       "\n",
       "    .dataframe tbody tr th {\n",
       "        vertical-align: top;\n",
       "    }\n",
       "\n",
       "    .dataframe thead th {\n",
       "        text-align: right;\n",
       "    }\n",
       "</style>\n",
       "<table border=\"1\" class=\"dataframe\">\n",
       "  <thead>\n",
       "    <tr style=\"text-align: right;\">\n",
       "      <th></th>\n",
       "      <th>Date</th>\n",
       "      <th>Zip Code</th>\n",
       "      <th>Model Year</th>\n",
       "      <th>Fuel</th>\n",
       "      <th>Make</th>\n",
       "      <th>Light_Duty</th>\n",
       "      <th>Vehicles</th>\n",
       "    </tr>\n",
       "  </thead>\n",
       "  <tbody>\n",
       "    <tr>\n",
       "      <th>0</th>\n",
       "      <td>10/1/2018</td>\n",
       "      <td>90000</td>\n",
       "      <td>2006</td>\n",
       "      <td>Gasoline</td>\n",
       "      <td>OTHER/UNK</td>\n",
       "      <td>NaN</td>\n",
       "      <td>1.0</td>\n",
       "    </tr>\n",
       "    <tr>\n",
       "      <th>1</th>\n",
       "      <td>10/1/2018</td>\n",
       "      <td>NaN</td>\n",
       "      <td>2014</td>\n",
       "      <td>Gasoline</td>\n",
       "      <td>NaN</td>\n",
       "      <td>Yes</td>\n",
       "      <td>1.0</td>\n",
       "    </tr>\n",
       "    <tr>\n",
       "      <th>2</th>\n",
       "      <td>NaN</td>\n",
       "      <td>90000</td>\n",
       "      <td>NaN</td>\n",
       "      <td>Gasoline</td>\n",
       "      <td>OTHER/UNK</td>\n",
       "      <td>Yes</td>\n",
       "      <td>NaN</td>\n",
       "    </tr>\n",
       "    <tr>\n",
       "      <th>3</th>\n",
       "      <td>10/1/2018</td>\n",
       "      <td>90000</td>\n",
       "      <td>2017</td>\n",
       "      <td>Gasoline</td>\n",
       "      <td>OTHER/UNK</td>\n",
       "      <td>Yes</td>\n",
       "      <td>1.0</td>\n",
       "    </tr>\n",
       "    <tr>\n",
       "      <th>4</th>\n",
       "      <td>10/1/2018</td>\n",
       "      <td>90000</td>\n",
       "      <td>&lt;2006</td>\n",
       "      <td>Diesel and Diesel Hybrid</td>\n",
       "      <td>OTHER/UNK</td>\n",
       "      <td>No</td>\n",
       "      <td>55.0</td>\n",
       "    </tr>\n",
       "  </tbody>\n",
       "</table>\n",
       "</div>"
      ],
      "text/plain": [
       "        Date Zip Code Model Year                      Fuel       Make  \\\n",
       "0  10/1/2018    90000       2006                  Gasoline  OTHER/UNK   \n",
       "1  10/1/2018      NaN       2014                  Gasoline        NaN   \n",
       "2        NaN    90000        NaN                  Gasoline  OTHER/UNK   \n",
       "3  10/1/2018    90000       2017                  Gasoline  OTHER/UNK   \n",
       "4  10/1/2018    90000      <2006  Diesel and Diesel Hybrid  OTHER/UNK   \n",
       "\n",
       "  Light_Duty  Vehicles  \n",
       "0        NaN       1.0  \n",
       "1        Yes       1.0  \n",
       "2        Yes       NaN  \n",
       "3        Yes       1.0  \n",
       "4         No      55.0  "
      ]
     },
     "execution_count": 8,
     "metadata": {},
     "output_type": "execute_result"
    }
   ],
   "source": [
    "df_transport = pd.read_csv('../data/transport/untidy_vehicle_data.csv')\n",
    "df_transport.head() #最初の5行を出力します。"
   ]
  },
  {
   "cell_type": "markdown",
   "metadata": {},
   "source": [
    "### DataFrame列のデータ型\n",
    "\n",
    "DataFrameには、異種または「混合」データ型が含まれる場合があります。つまり、一部の列は数値、一部は文字列、一部は日付などです。CSVファイルには各列に含まれるデータ型に関する情報が含まれていないため、Pandasはデータを推測します。データをロードするときのタイプ。列に数値のみが含まれている場合、Pandasはその列のデータ型を整数または浮動小数点数に設定します。\n",
    "\n",
    "次のセルを実行して、DataFrameの情報を確認します。"
   ]
  },
  {
   "cell_type": "code",
   "execution_count": 9,
   "metadata": {},
   "outputs": [
    {
     "name": "stdout",
     "output_type": "stream",
     "text": [
      "<class 'pandas.core.frame.DataFrame'>\n",
      "RangeIndex: 999 entries, 0 to 998\n",
      "Data columns (total 7 columns):\n",
      " #   Column      Non-Null Count  Dtype  \n",
      "---  ------      --------------  -----  \n",
      " 0   Date        997 non-null    object \n",
      " 1   Zip Code    997 non-null    object \n",
      " 2   Model Year  997 non-null    object \n",
      " 3   Fuel        996 non-null    object \n",
      " 4   Make        996 non-null    object \n",
      " 5   Light_Duty  996 non-null    object \n",
      " 6   Vehicles    996 non-null    float64\n",
      "dtypes: float64(1), object(6)\n",
      "memory usage: 54.8+ KB\n"
     ]
    }
   ],
   "source": [
    "df_transport.info()"
   ]
  },
  {
   "cell_type": "markdown",
   "metadata": {},
   "source": [
    ".info（）関数が示すことから、6つの文字列オブジェクトと1つのfloatオブジェクトがあります。各列の最初と最後の5行を印刷してみましょう。これで、より多くの「文字列」オブジェクト値を確実に確認できます。"
   ]
  },
  {
   "cell_type": "code",
   "execution_count": 10,
   "metadata": {},
   "outputs": [
    {
     "name": "stdout",
     "output_type": "stream",
     "text": [
      "          Date Zip Code Model Year                      Fuel       Make  \\\n",
      "0    10/1/2018    90000       2006                  Gasoline  OTHER/UNK   \n",
      "1    10/1/2018      NaN       2014                  Gasoline        NaN   \n",
      "2          NaN    90000        NaN                  Gasoline  OTHER/UNK   \n",
      "3    10/1/2018    90000       2017                  Gasoline  OTHER/UNK   \n",
      "4    10/1/2018    90000      <2006  Diesel and Diesel Hybrid  OTHER/UNK   \n",
      "..         ...      ...        ...                       ...        ...   \n",
      "994   6/7/2019    90003       2012                  Gasoline     Type_R   \n",
      "995   6/8/2019    90003       2012           Hybrid Gasoline  OTHER/UNK   \n",
      "996   6/9/2019    90003       2012           Hybrid Gasoline     Type_Q   \n",
      "997  6/10/2019    90003       2012               Natural Gas  OTHER/UNK   \n",
      "998  6/11/2019    90003       2012            Plug-in Hybrid  OTHER/UNK   \n",
      "\n",
      "    Light_Duty  Vehicles  \n",
      "0          NaN       1.0  \n",
      "1          Yes       1.0  \n",
      "2          Yes       NaN  \n",
      "3          Yes       1.0  \n",
      "4           No      55.0  \n",
      "..         ...       ...  \n",
      "994        Yes      26.0  \n",
      "995        Yes       4.0  \n",
      "996        Yes      25.0  \n",
      "997        Yes       1.0  \n",
      "998        Yes       3.0  \n",
      "\n",
      "[999 rows x 7 columns]\n"
     ]
    }
   ],
   "source": [
    "print(df_transport)"
   ]
  },
  {
   "cell_type": "markdown",
   "metadata": {},
   "source": [
    "###要約統計量\n",
    "\n",
    "この時点で、数値を含む列は1つだけです（例：車両）。数値を含む特徴については、それらの値に関連するさまざまな統計的尺度に関心があることがよくあります。 .describe（）を使用して、データフレームの数値フィールドの要約統計量を確認できます。数値機能が1つしかないため、現時点では1つの要約しか表示されないことに注意してください。"
   ]
  },
  {
   "cell_type": "code",
   "execution_count": 11,
   "metadata": {},
   "outputs": [
    {
     "data": {
      "text/html": [
       "<div>\n",
       "<style scoped>\n",
       "    .dataframe tbody tr th:only-of-type {\n",
       "        vertical-align: middle;\n",
       "    }\n",
       "\n",
       "    .dataframe tbody tr th {\n",
       "        vertical-align: top;\n",
       "    }\n",
       "\n",
       "    .dataframe thead th {\n",
       "        text-align: right;\n",
       "    }\n",
       "</style>\n",
       "<table border=\"1\" class=\"dataframe\">\n",
       "  <thead>\n",
       "    <tr style=\"text-align: right;\">\n",
       "      <th></th>\n",
       "      <th>Vehicles</th>\n",
       "    </tr>\n",
       "  </thead>\n",
       "  <tbody>\n",
       "    <tr>\n",
       "      <th>count</th>\n",
       "      <td>996.000000</td>\n",
       "    </tr>\n",
       "    <tr>\n",
       "      <th>mean</th>\n",
       "      <td>72.878514</td>\n",
       "    </tr>\n",
       "    <tr>\n",
       "      <th>std</th>\n",
       "      <td>229.696895</td>\n",
       "    </tr>\n",
       "    <tr>\n",
       "      <th>min</th>\n",
       "      <td>1.000000</td>\n",
       "    </tr>\n",
       "    <tr>\n",
       "      <th>25%</th>\n",
       "      <td>13.000000</td>\n",
       "    </tr>\n",
       "    <tr>\n",
       "      <th>50%</th>\n",
       "      <td>23.000000</td>\n",
       "    </tr>\n",
       "    <tr>\n",
       "      <th>75%</th>\n",
       "      <td>57.250000</td>\n",
       "    </tr>\n",
       "    <tr>\n",
       "      <th>max</th>\n",
       "      <td>3178.000000</td>\n",
       "    </tr>\n",
       "  </tbody>\n",
       "</table>\n",
       "</div>"
      ],
      "text/plain": [
       "          Vehicles\n",
       "count   996.000000\n",
       "mean     72.878514\n",
       "std     229.696895\n",
       "min       1.000000\n",
       "25%      13.000000\n",
       "50%      23.000000\n",
       "75%      57.250000\n",
       "max    3178.000000"
      ]
     },
     "execution_count": 11,
     "metadata": {},
     "output_type": "execute_result"
    }
   ],
   "source": [
    "df_transport.describe()"
   ]
  },
  {
   "cell_type": "markdown",
   "metadata": {},
   "source": [
    ".groupby（）関数を使用して、もう少しデータを調べてみましょう。"
   ]
  },
  {
   "cell_type": "code",
   "execution_count": 12,
   "metadata": {},
   "outputs": [
    {
     "data": {
      "text/html": [
       "<div>\n",
       "<style scoped>\n",
       "    .dataframe tbody tr th:only-of-type {\n",
       "        vertical-align: middle;\n",
       "    }\n",
       "\n",
       "    .dataframe tbody tr th {\n",
       "        vertical-align: top;\n",
       "    }\n",
       "\n",
       "    .dataframe thead th {\n",
       "        text-align: right;\n",
       "    }\n",
       "</style>\n",
       "<table border=\"1\" class=\"dataframe\">\n",
       "  <thead>\n",
       "    <tr style=\"text-align: right;\">\n",
       "      <th></th>\n",
       "      <th>Date</th>\n",
       "      <th>Zip Code</th>\n",
       "      <th>Model Year</th>\n",
       "      <th>Make</th>\n",
       "      <th>Light_Duty</th>\n",
       "      <th>Vehicles</th>\n",
       "    </tr>\n",
       "    <tr>\n",
       "      <th>Fuel</th>\n",
       "      <th></th>\n",
       "      <th></th>\n",
       "      <th></th>\n",
       "      <th></th>\n",
       "      <th></th>\n",
       "      <th></th>\n",
       "    </tr>\n",
       "  </thead>\n",
       "  <tbody>\n",
       "    <tr>\n",
       "      <th>Battery Electric</th>\n",
       "      <td>10/1/2018</td>\n",
       "      <td>90000</td>\n",
       "      <td>&lt;2006</td>\n",
       "      <td>OTHER/UNK</td>\n",
       "      <td>No</td>\n",
       "      <td>4.0</td>\n",
       "    </tr>\n",
       "    <tr>\n",
       "      <th>Diesel and Diesel Hybrid</th>\n",
       "      <td>10/1/2018</td>\n",
       "      <td>90000</td>\n",
       "      <td>&lt;2006</td>\n",
       "      <td>OTHER/UNK</td>\n",
       "      <td>No</td>\n",
       "      <td>55.0</td>\n",
       "    </tr>\n",
       "    <tr>\n",
       "      <th>Flex-Fuel</th>\n",
       "      <td>10/14/2018</td>\n",
       "      <td>90001</td>\n",
       "      <td>2007</td>\n",
       "      <td>Type_A</td>\n",
       "      <td>Yes</td>\n",
       "      <td>78.0</td>\n",
       "    </tr>\n",
       "    <tr>\n",
       "      <th>Gasoline</th>\n",
       "      <td>10/1/2018</td>\n",
       "      <td>90000</td>\n",
       "      <td>2006</td>\n",
       "      <td>OTHER/UNK</td>\n",
       "      <td>Yes</td>\n",
       "      <td>1.0</td>\n",
       "    </tr>\n",
       "    <tr>\n",
       "      <th>Hybrid Gasoline</th>\n",
       "      <td>10/24/2018</td>\n",
       "      <td>90001</td>\n",
       "      <td>2009</td>\n",
       "      <td>OTHER/UNK</td>\n",
       "      <td>Yes</td>\n",
       "      <td>18.0</td>\n",
       "    </tr>\n",
       "    <tr>\n",
       "      <th>Natural Gas</th>\n",
       "      <td>10/25/2018</td>\n",
       "      <td>90001</td>\n",
       "      <td>2009</td>\n",
       "      <td>OTHER/UNK</td>\n",
       "      <td>No</td>\n",
       "      <td>2.0</td>\n",
       "    </tr>\n",
       "    <tr>\n",
       "      <th>Other</th>\n",
       "      <td>10/8/2018</td>\n",
       "      <td>90000</td>\n",
       "      <td>&lt;2006</td>\n",
       "      <td>OTHER/UNK</td>\n",
       "      <td>Yes</td>\n",
       "      <td>6.0</td>\n",
       "    </tr>\n",
       "    <tr>\n",
       "      <th>Plug-in Hybrid</th>\n",
       "      <td>11/2/2018</td>\n",
       "      <td>90001</td>\n",
       "      <td>2012</td>\n",
       "      <td>OTHER/UNK</td>\n",
       "      <td>Yes</td>\n",
       "      <td>1.0</td>\n",
       "    </tr>\n",
       "  </tbody>\n",
       "</table>\n",
       "</div>"
      ],
      "text/plain": [
       "                                Date Zip Code Model Year       Make  \\\n",
       "Fuel                                                                  \n",
       "Battery Electric           10/1/2018    90000      <2006  OTHER/UNK   \n",
       "Diesel and Diesel Hybrid   10/1/2018    90000      <2006  OTHER/UNK   \n",
       "Flex-Fuel                 10/14/2018    90001       2007     Type_A   \n",
       "Gasoline                   10/1/2018    90000       2006  OTHER/UNK   \n",
       "Hybrid Gasoline           10/24/2018    90001       2009  OTHER/UNK   \n",
       "Natural Gas               10/25/2018    90001       2009  OTHER/UNK   \n",
       "Other                      10/8/2018    90000      <2006  OTHER/UNK   \n",
       "Plug-in Hybrid             11/2/2018    90001       2012  OTHER/UNK   \n",
       "\n",
       "                         Light_Duty  Vehicles  \n",
       "Fuel                                           \n",
       "Battery Electric                 No       4.0  \n",
       "Diesel and Diesel Hybrid         No      55.0  \n",
       "Flex-Fuel                       Yes      78.0  \n",
       "Gasoline                        Yes       1.0  \n",
       "Hybrid Gasoline                 Yes      18.0  \n",
       "Natural Gas                      No       2.0  \n",
       "Other                           Yes       6.0  \n",
       "Plug-in Hybrid                  Yes       1.0  "
      ]
     },
     "execution_count": 12,
     "metadata": {},
     "output_type": "execute_result"
    }
   ],
   "source": [
    "df_transport.groupby('Fuel').first() #毎月最初のエントリを取得します。"
   ]
  },
  {
   "cell_type": "markdown",
   "metadata": {},
   "source": [
    "####欠落値のチェック\n",
    "\n",
    "値が欠落していると、機械学習モデルがデータについて不正確な推論を行う可能性があるため、データ品質に悪影響を及ぼします。欠落している値は、多くの要因の結果である可能性があります。ストリーミング送信、データ入力、またはユーザーがフィールドへの入力を忘れたときに失われた「ビット」。 Pandasは、空のセルと「NaN」タイプの両方を欠落値として認識することに注意してください。"
   ]
  },
  {
   "cell_type": "markdown",
   "metadata": {},
   "source": [
    "DataFrameのすべての機能のnull値を表示してみましょう。"
   ]
  },
  {
   "cell_type": "code",
   "execution_count": 13,
   "metadata": {},
   "outputs": [
    {
     "data": {
      "text/plain": [
       "Date          2\n",
       "Zip Code      2\n",
       "Model Year    2\n",
       "Fuel          3\n",
       "Make          3\n",
       "Light_Duty    3\n",
       "Vehicles      3\n",
       "dtype: int64"
      ]
     },
     "execution_count": 13,
     "metadata": {},
     "output_type": "execute_result"
    }
   ],
   "source": [
    "df_transport.isnull().sum()"
   ]
  },
  {
   "cell_type": "markdown",
   "metadata": {},
   "source": [
    "欠落している値のサンプルを確認するには、フィーチャ列名を入力します。 「False」と「True」は、インデックス番号による値の有無に対応していることに気付くでしょう。\n"
   ]
  },
  {
   "cell_type": "code",
   "execution_count": 14,
   "metadata": {},
   "outputs": [
    {
     "name": "stdout",
     "output_type": "stream",
     "text": [
      "0      10/1/2018\n",
      "1      10/1/2018\n",
      "2            NaN\n",
      "3      10/1/2018\n",
      "4      10/1/2018\n",
      "         ...    \n",
      "994     6/7/2019\n",
      "995     6/8/2019\n",
      "996     6/9/2019\n",
      "997    6/10/2019\n",
      "998    6/11/2019\n",
      "Name: Date, Length: 999, dtype: object\n",
      "0      False\n",
      "1      False\n",
      "2       True\n",
      "3      False\n",
      "4      False\n",
      "       ...  \n",
      "994    False\n",
      "995    False\n",
      "996    False\n",
      "997    False\n",
      "998    False\n",
      "Name: Date, Length: 999, dtype: bool\n"
     ]
    }
   ],
   "source": [
    "print (df_transport['Date'])\n",
    "print (df_transport['Date'].isnull())"
   ]
  },
  {
   "cell_type": "code",
   "execution_count": 15,
   "metadata": {},
   "outputs": [
    {
     "name": "stdout",
     "output_type": "stream",
     "text": [
      "0      OTHER/UNK\n",
      "1            NaN\n",
      "2      OTHER/UNK\n",
      "3      OTHER/UNK\n",
      "4      OTHER/UNK\n",
      "         ...    \n",
      "994       Type_R\n",
      "995    OTHER/UNK\n",
      "996       Type_Q\n",
      "997    OTHER/UNK\n",
      "998    OTHER/UNK\n",
      "Name: Make, Length: 999, dtype: object\n",
      "0      False\n",
      "1       True\n",
      "2      False\n",
      "3      False\n",
      "4      False\n",
      "       ...  \n",
      "994    False\n",
      "995    False\n",
      "996    False\n",
      "997    False\n",
      "998    False\n",
      "Name: Make, Length: 999, dtype: bool\n"
     ]
    }
   ],
   "source": [
    "print (df_transport['Make'])\n",
    "print (df_transport['Make'].isnull())"
   ]
  },
  {
   "cell_type": "code",
   "execution_count": 16,
   "metadata": {},
   "outputs": [
    {
     "name": "stdout",
     "output_type": "stream",
     "text": [
      "0       2006\n",
      "1       2014\n",
      "2        NaN\n",
      "3       2017\n",
      "4      <2006\n",
      "       ...  \n",
      "994     2012\n",
      "995     2012\n",
      "996     2012\n",
      "997     2012\n",
      "998     2012\n",
      "Name: Model Year, Length: 999, dtype: object\n",
      "0      False\n",
      "1      False\n",
      "2       True\n",
      "3      False\n",
      "4      False\n",
      "       ...  \n",
      "994    False\n",
      "995    False\n",
      "996    False\n",
      "997    False\n",
      "998    False\n",
      "Name: Model Year, Length: 999, dtype: bool\n"
     ]
    }
   ],
   "source": [
    "print (df_transport['Model Year'])\n",
    "print (df_transport['Model Year'].isnull())"
   ]
  },
  {
   "cell_type": "markdown",
   "metadata": {},
   "source": [
    "###この時点でデータについて何を推測できますか？\n",
    "\n",
    "まず、行、列、機能、一意の値、欠落している値ごとにデータを要約しましょう。"
   ]
  },
  {
   "cell_type": "code",
   "execution_count": 17,
   "metadata": {},
   "outputs": [
    {
     "name": "stdout",
     "output_type": "stream",
     "text": [
      "Rows     :  999\n",
      "Columns  :  7\n",
      "\n",
      "Features : \n",
      " ['Date', 'Zip Code', 'Model Year', 'Fuel', 'Make', 'Light_Duty', 'Vehicles']\n",
      "\n",
      "Unique values :  \n",
      " Date          248\n",
      "Zip Code        6\n",
      "Model Year     15\n",
      "Fuel            8\n",
      "Make           43\n",
      "Light_Duty      3\n",
      "Vehicles      210\n",
      "dtype: int64\n",
      "\n",
      "Missing values :   18\n"
     ]
    }
   ],
   "source": [
    "print (\"Rows     : \" ,df_transport.shape[0])\n",
    "print (\"Columns  : \" ,df_transport.shape[1])\n",
    "print (\"\\nFeatures : \\n\" ,df_transport.columns.tolist())\n",
    "print (\"\\nUnique values :  \\n\",df_transport.nunique())\n",
    "print (\"\\nMissing values :  \", df_transport.isnull().sum().values.sum())\n"
   ]
  },
  {
   "cell_type": "markdown",
   "metadata": {},
   "source": [
    "Let's see the data again -- this time the last five rows in the dataset."
   ]
  },
  {
   "cell_type": "code",
   "execution_count": 18,
   "metadata": {},
   "outputs": [
    {
     "data": {
      "text/html": [
       "<div>\n",
       "<style scoped>\n",
       "    .dataframe tbody tr th:only-of-type {\n",
       "        vertical-align: middle;\n",
       "    }\n",
       "\n",
       "    .dataframe tbody tr th {\n",
       "        vertical-align: top;\n",
       "    }\n",
       "\n",
       "    .dataframe thead th {\n",
       "        text-align: right;\n",
       "    }\n",
       "</style>\n",
       "<table border=\"1\" class=\"dataframe\">\n",
       "  <thead>\n",
       "    <tr style=\"text-align: right;\">\n",
       "      <th></th>\n",
       "      <th>Date</th>\n",
       "      <th>Zip Code</th>\n",
       "      <th>Model Year</th>\n",
       "      <th>Fuel</th>\n",
       "      <th>Make</th>\n",
       "      <th>Light_Duty</th>\n",
       "      <th>Vehicles</th>\n",
       "    </tr>\n",
       "  </thead>\n",
       "  <tbody>\n",
       "    <tr>\n",
       "      <th>994</th>\n",
       "      <td>6/7/2019</td>\n",
       "      <td>90003</td>\n",
       "      <td>2012</td>\n",
       "      <td>Gasoline</td>\n",
       "      <td>Type_R</td>\n",
       "      <td>Yes</td>\n",
       "      <td>26.0</td>\n",
       "    </tr>\n",
       "    <tr>\n",
       "      <th>995</th>\n",
       "      <td>6/8/2019</td>\n",
       "      <td>90003</td>\n",
       "      <td>2012</td>\n",
       "      <td>Hybrid Gasoline</td>\n",
       "      <td>OTHER/UNK</td>\n",
       "      <td>Yes</td>\n",
       "      <td>4.0</td>\n",
       "    </tr>\n",
       "    <tr>\n",
       "      <th>996</th>\n",
       "      <td>6/9/2019</td>\n",
       "      <td>90003</td>\n",
       "      <td>2012</td>\n",
       "      <td>Hybrid Gasoline</td>\n",
       "      <td>Type_Q</td>\n",
       "      <td>Yes</td>\n",
       "      <td>25.0</td>\n",
       "    </tr>\n",
       "    <tr>\n",
       "      <th>997</th>\n",
       "      <td>6/10/2019</td>\n",
       "      <td>90003</td>\n",
       "      <td>2012</td>\n",
       "      <td>Natural Gas</td>\n",
       "      <td>OTHER/UNK</td>\n",
       "      <td>Yes</td>\n",
       "      <td>1.0</td>\n",
       "    </tr>\n",
       "    <tr>\n",
       "      <th>998</th>\n",
       "      <td>6/11/2019</td>\n",
       "      <td>90003</td>\n",
       "      <td>2012</td>\n",
       "      <td>Plug-in Hybrid</td>\n",
       "      <td>OTHER/UNK</td>\n",
       "      <td>Yes</td>\n",
       "      <td>3.0</td>\n",
       "    </tr>\n",
       "  </tbody>\n",
       "</table>\n",
       "</div>"
      ],
      "text/plain": [
       "          Date Zip Code Model Year             Fuel       Make Light_Duty  \\\n",
       "994   6/7/2019    90003       2012         Gasoline     Type_R        Yes   \n",
       "995   6/8/2019    90003       2012  Hybrid Gasoline  OTHER/UNK        Yes   \n",
       "996   6/9/2019    90003       2012  Hybrid Gasoline     Type_Q        Yes   \n",
       "997  6/10/2019    90003       2012      Natural Gas  OTHER/UNK        Yes   \n",
       "998  6/11/2019    90003       2012   Plug-in Hybrid  OTHER/UNK        Yes   \n",
       "\n",
       "     Vehicles  \n",
       "994      26.0  \n",
       "995       4.0  \n",
       "996      25.0  \n",
       "997       1.0  \n",
       "998       3.0  "
      ]
     },
     "execution_count": 18,
     "metadata": {},
     "output_type": "execute_result"
    }
   ],
   "source": [
    "df_transport.tail()"
   ]
  },
  {
   "cell_type": "markdown",
   "metadata": {},
   "source": [
    "###データ品質の問題は何ですか？\n",
    "\n",
    "1. **データ品質の問題＃1 **：\n",
    "> **欠測値**：\n",
    "各機能列には、複数の欠落値があります。実際、合計18個の欠落値があります。\n",
    "2。**データ品質の問題＃2 **：\n",
    "> ** Date DataType **：日付は「オブジェクト」データ型として表示され、日時である必要があります。さらに、日付は1つの列にあります。私たちのビジネス要件は、日付を年、月、日に解析することです。\n",
    "3。**データ品質の問題＃3 **：\n",
    "> **モデルイヤー**：「<2006」ではなく、2006年を超える年にのみ関心があります。\n",
    "4。**データ品質の問題＃4 **：\n",
    "> **カテゴリ列**：機能列「Light_Duty」はカテゴリであり、「はい/いいえ」を選択できます。このような値を機械学習モデルにフィードすることはできません。さらに、残りの「文字列」/「オブジェクト」列を「ワンホットエンコード」する必要があります。\n",
    "5. **データ品質の問題＃5 **：\n",
    "> **時間的特徴**：年、月、日をどのように処理しますか？"
   ]
  },
  {
   "cell_type": "markdown",
   "metadata": {},
   "source": [
    "####データ品質の問題＃1：\n",
    "#####欠落している値の解決"
   ]
  },
  {
   "cell_type": "markdown",
   "metadata": {},
   "source": [
    "ほとんどのアルゴリズムは欠落値を受け入れません。ただし、データセットに欠損値が見られる場合は、常に、欠損値のある「すべての行を削除」する傾向があります。パンダは空白を「NaN」で埋めますが、何らかの方法で「処理」する必要があります。\n",
    "\n",
    "欠落値を処理するためのすべての方法はこのラボの範囲を超えていますが、考慮すべきいくつかの方法があります。数値列の場合、「平均」値を使用して、欠落している数値を埋めます。カテゴリ列の場合、「モード」（または最も頻繁な値）を使用して、欠落しているカテゴリ値を入力します。\n",
    "\n",
    "このラボでは、.apply関数とLambda関数を使用して、すべての列に独自の最も頻繁な値を入力します。 Lambda関数については、ラボの後半で詳しく学習します。"
   ]
  },
  {
   "cell_type": "markdown",
   "metadata": {},
   "source": [
    "各特徴列のNaN値が含まれている行の数を示して、欠落している値をもう一度確認しましょう。"
   ]
  },
  {
   "cell_type": "markdown",
   "metadata": {},
   "source": [
    "**ラボタスク＃1a：**各機能列のNaN値を含む行数を表示して、欠落している値を確認します。"
   ]
  },
  {
   "cell_type": "code",
   "execution_count": null,
   "metadata": {},
   "outputs": [],
   "source": [
    "# TODO 1a\n",
    "# TODO -- Your code here.\n"
   ]
  },
  {
   "cell_type": "markdown",
   "metadata": {},
   "source": [
    "**ラボタスク＃1b：**ラムダ関数を適用します。"
   ]
  },
  {
   "cell_type": "code",
   "execution_count": null,
   "metadata": {},
   "outputs": [],
   "source": [
    "# TODO 1b\n",
    "# TODO -- Your code here.\n"
   ]
  },
  {
   "cell_type": "markdown",
   "metadata": {},
   "source": [
    "**ラボタスク＃1c：**不足している値がないかもう一度確認します。"
   ]
  },
  {
   "cell_type": "code",
   "execution_count": null,
   "metadata": {},
   "outputs": [],
   "source": [
    "# TODO 1c\n",
    "# TODO -- Your code here.\n"
   ]
  },
  {
   "cell_type": "markdown",
   "metadata": {},
   "source": [
    "####データ品質の問題＃2：\n",
    "#####日付機能列を日時形式に変換する"
   ]
  },
  {
   "cell_type": "markdown",
   "metadata": {},
   "source": [
    "日付列は実際に文字列オブジェクトとして表示されます。"
   ]
  },
  {
   "cell_type": "markdown",
   "metadata": {},
   "source": [
    "**ラボタスク＃2a：** Pandasのto_datetime（）関数を使用してdatetimeデータ型を変換します。"
   ]
  },
  {
   "cell_type": "code",
   "execution_count": null,
   "metadata": {},
   "outputs": [],
   "source": [
    "# TODO 2a\n",
    "# TODO -- Your code here.\n"
   ]
  },
  {
   "cell_type": "markdown",
   "metadata": {},
   "source": [
    "**ラボタスク＃2b：**変換された日付を表示します。"
   ]
  },
  {
   "cell_type": "code",
   "execution_count": null,
   "metadata": {},
   "outputs": [],
   "source": [
    "# TODO 2b\n",
    "# TODO -- Your code here.\n"
   ]
  },
  {
   "cell_type": "markdown",
   "metadata": {},
   "source": [
    "日付を3つの列に解析してみましょう。年、月、日。"
   ]
  },
  {
   "cell_type": "code",
   "execution_count": null,
   "metadata": {},
   "outputs": [],
   "source": [
    "df_transport['year'] = df_transport['Date'].dt.year\n",
    "df_transport['month'] = df_transport['Date'].dt.month\n",
    "df_transport['day'] = df_transport['Date'].dt.day\n",
    "#df ['hour'] = df ['date']。dt.hour-日付形式に時間が含まれている場合は、これを使用できます。\n",
    "#df ['minute'] = df ['date']。dt.minute-日付形式に分が含まれている場合は、これを使用できます。\n",
    "df_transport.info()"
   ]
  },
  {
   "cell_type": "markdown",
   "metadata": {},
   "source": [
    "次に、日付の解析を確認しましょう。これにより、データの別の視覚化も可能になります。"
   ]
  },
  {
   "cell_type": "code",
   "execution_count": null,
   "metadata": {},
   "outputs": [],
   "source": [
    "#ここでは、「grouped_data」という新しいデータフレームを作成し、「Make」列でグループ化します。\n",
    "grouped_data = df_transport.groupby(['Make'])\n",
    "\n",
    "# 毎月最初のエントリを取得します。\n",
    "df_transport.groupby('month').first()"
   ]
  },
  {
   "cell_type": "markdown",
   "metadata": {},
   "source": [
    "整数としての日付があるので、いくつかの追加のプロットを行いましょう。"
   ]
  },
  {
   "cell_type": "code",
   "execution_count": null,
   "metadata": {},
   "outputs": [],
   "source": [
    "plt.figure(figsize=(10,6))\n",
    "sns.jointplot(x='month',y='Vehicles',data=df_transport)\n",
    "#plt.title('Vehicles by Month')"
   ]
  },
  {
   "cell_type": "markdown",
   "metadata": {},
   "source": [
    "####データ品質の問題＃3：\n",
    "#####フィーチャ列の名前を変更し、値を削除します。\n",
    "\n",
    "機能列の名前には、さまざまな「大文字」が含まれています。大文字と小文字の両方の「大文字と小文字」。さらに、一部の列名には「スペース」があります。さらに、「<2006」ではなく、2006年を超える年にのみ関心があります。"
   ]
  },
  {
   "cell_type": "markdown",
   "metadata": {},
   "source": [
    "**ラボタスク＃3a：**名前を変更して、フィーチャ列のすべてのスペースを削除します。"
   ]
  },
  {
   "cell_type": "code",
   "execution_count": null,
   "metadata": {},
   "outputs": [],
   "source": [
    "# TODO 3a\n",
    "# TODO -- Your code here.\n"
   ]
  },
  {
   "cell_type": "markdown",
   "metadata": {},
   "source": [
    "**注：**次に、「SettingWithCopyWarning：値がDataFrameからのスライスのコピーに設定されようとしています」という警告を回避するために、データフレームのコピーを作成します。セルを実行して、モデルイヤー機能列から値 '<2006'を削除します。"
   ]
  },
  {
   "cell_type": "markdown",
   "metadata": {},
   "source": [
    "**ラボタスク＃3b：**コピー警告の問題を回避するために、データフレームのコピーを作成します。"
   ]
  },
  {
   "cell_type": "code",
   "execution_count": null,
   "metadata": {},
   "outputs": [],
   "source": [
    "# TODO 3b\n",
    "# TODO -- Your code here.\n"
   ]
  },
  {
   "cell_type": "markdown",
   "metadata": {},
   "source": [
    "次に、値カウントを実行して、モデルイヤー値 '<2006'が削除されたことを確認します。"
   ]
  },
  {
   "cell_type": "code",
   "execution_count": null,
   "metadata": {},
   "outputs": [],
   "source": [
    "df['modelyear'].value_counts(0)"
   ]
  },
  {
   "cell_type": "markdown",
   "metadata": {},
   "source": [
    "####データ品質の問題＃4：\n",
    "#####カテゴリ列の処理\n",
    "\n",
    "機能列「lightduty」はカテゴリ別であり、「はい/いいえ」の選択肢があります。このような値を機械学習モデルにフィードすることはできません。バイナリの回答をyes / noの文字列から1/0の整数に変換する必要があります。これを実現するにはさまざまな方法があります。ラムダ式で「apply」メソッドを使用します。パンダ。 apply（）は関数を受け取り、それをPandasシリーズのすべての値に適用します。\n",
    "\n",
    "#####ラムダ関数とは何ですか？\n",
    "\n",
    "通常、Pythonではdefキーワードを使用して関数を定義する必要があります。ただし、ラムダ関数は無名です。つまり、名前を付ける必要はありません。ラムダ関数の最も一般的な使用例は、単純な1行の関数を必要とするコードです（たとえば、ラムダには1つの式しかありません）。\n",
    "\n",
    "コーススペシャライゼーションを進めると、ラムダ関数が使用されている多くの例が表示されます。今がそれらに精通する良い機会です。"
   ]
  },
  {
   "cell_type": "markdown",
   "metadata": {},
   "source": [
    "まず、「軽量」機能の列にある「はい」と「いいえ」の数を数えましょう。"
   ]
  },
  {
   "cell_type": "code",
   "execution_count": null,
   "metadata": {},
   "outputs": [],
   "source": [
    "df['lightduty'].value_counts(0)"
   ]
  },
  {
   "cell_type": "markdown",
   "metadata": {},
   "source": [
    "はいを1に、いいえを0に変換しましょう。Pandas. apply() 。 applyは関数を受け取り、それをPandasシリーズのすべての値（例：lightduty）に適用します。"
   ]
  },
  {
   "cell_type": "code",
   "execution_count": null,
   "metadata": {},
   "outputs": [],
   "source": [
    "df.loc[:,'lightduty'] = df['lightduty'].apply(lambda x: 0 if x=='No' else 1)\n",
    "df['lightduty'].value_counts(0)"
   ]
  },
  {
   "cell_type": "code",
   "execution_count": null,
   "metadata": {},
   "outputs": [],
   "source": [
    "# Confirm that \"lightduty\" has been converted.\n",
    "\n",
    "df.head()"
   ]
  },
  {
   "cell_type": "markdown",
   "metadata": {},
   "source": [
    "####ワンホットエンコーディングカテゴリ機能列\n",
    "\n",
    "機械学習アルゴリズムは、カテゴリの特徴ではなく、入力ベクトルを期待します。具体的には、テキストまたは文字列値を処理できません。したがって、カテゴリの特徴をベクトルに変換すると便利なことがよくあります。\n",
    "\n",
    "変換方法の1つは、カテゴリ機能のダミー変数を作成することです。ダミー変数は、それぞれがカテゴリ機能からの単一のクラスを表すバイナリ（0または1）変数のセットです。カテゴリ変数をワンホットベクトル、つまり1つの要素のみが非ゼロまたはホットであるベクトルとしてエンコードするだけです。ワンホットエンコーディングを使用すると、カテゴリフィーチャは配列になり、そのサイズはそのフィーチャの可能な選択肢の数になります。"
   ]
  },
  {
   "cell_type": "markdown",
   "metadata": {},
   "source": [
    "Panda provides a function called \"get_dummies\" to convert a categorical variable into dummy/indicator variables."
   ]
  },
  {
   "cell_type": "code",
   "execution_count": null,
   "metadata": {},
   "outputs": [],
   "source": [
    "# Making dummy variables for categorical data with more inputs.  \n",
    "\n",
    "data_dummy = pd.get_dummies(df[['zipcode','modelyear', 'fuel', 'make']], drop_first=True)\n",
    "data_dummy.head()"
   ]
  },
  {
   "cell_type": "markdown",
   "metadata": {},
   "source": [
    "**Lab Task #4a:** Merge (concatenate) original data frame with 'dummy' dataframe."
   ]
  },
  {
   "cell_type": "code",
   "execution_count": null,
   "metadata": {},
   "outputs": [],
   "source": [
    "# TODO 4a\n",
    "# TODO -- Your code here.\n"
   ]
  },
  {
   "cell_type": "markdown",
   "metadata": {},
   "source": [
    "**Lab Task #4b:** Drop attributes for which we made dummy variables."
   ]
  },
  {
   "cell_type": "code",
   "execution_count": null,
   "metadata": {},
   "outputs": [],
   "source": [
    "# TODO 4b\n",
    "# TODO -- Your code here.\n"
   ]
  },
  {
   "cell_type": "code",
   "execution_count": null,
   "metadata": {},
   "outputs": [],
   "source": [
    "# Confirm that 'zipcode','modelyear', 'fuel', and 'make' have been dropped.\n",
    "\n",
    "df.head()"
   ]
  },
  {
   "cell_type": "markdown",
   "metadata": {},
   "source": [
    "####データ品質の問題＃5：\n",
    "#####時間的特徴列\n",
    "\n",
    "データセットには、年、月、日の特徴列が含まれています。月と日の特徴の列を意味のある表現に変換して、時間的特徴の変更について考えさせましょう。見落とされがちです。\n",
    "\n",
    "このスペシャライゼーションの機能エンジニアリングコースでは、年、月、日、および時間の機能列を処理する方法についてさらに詳しく説明します。\n",
    "\n",
    "まず、データセットの「月」と「日」の一意の値を出力しましょう。"
   ]
  },
  {
   "cell_type": "code",
   "execution_count": null,
   "metadata": {},
   "outputs": [],
   "source": [
    "print ('Unique values of month:',df.month.unique())\n",
    "print ('Unique values of day:',df.day.unique())\n",
    "print ('Unique values of year:',df.year.unique())"
   ]
  },
  {
   "cell_type": "markdown",
   "metadata": {},
   "source": [
    "次に、各一時変数を円にマッピングして、その変数の最小値が最大値のすぐ隣に表示されるようにします。 sinおよびcos三角関数を使用して、その点のx成分とy成分を計算します。心配しないでください。TensorFlowとKerasのこれらの時間的特徴列に対処するための入力パイプラインを開発できるため、このコードを使用するのはこれが最後です。これははるかに簡単です。ただし、コースを進むときに遭遇しないことを理解する必要がある場合があります。\n",
    "\n",
    "セルを実行して出力を表示します。"
   ]
  },
  {
   "cell_type": "markdown",
   "metadata": {},
   "source": [
    "**Lab Task #5:** Drop month, and day"
   ]
  },
  {
   "cell_type": "code",
   "execution_count": null,
   "metadata": {},
   "outputs": [],
   "source": [
    "df['day_sin'] = np.sin(df.day*(2.*np.pi/31))\n",
    "df['day_cos'] = np.cos(df.day*(2.*np.pi/31))\n",
    "df['month_sin'] = np.sin((df.month-1)*(2.*np.pi/12))\n",
    "df['month_cos'] = np.cos((df.month-1)*(2.*np.pi/12))\n",
    "\n",
    "# TODO 5\n",
    "# TODO -- Your code here.\n"
   ]
  },
  {
   "cell_type": "code",
   "execution_count": null,
   "metadata": {},
   "outputs": [],
   "source": [
    "# scroll left to see the converted month and day coluumns.\n",
    "df.tail(4)"
   ]
  },
  {
   "cell_type": "markdown",
   "metadata": {},
   "source": [
    "＃＃＃ 結論\n",
    "\n",
    "このノートブックでは、データ品質を向上させるためのいくつかの概念が導入されました。欠落している値を解決し、日付機能列を日時形式に変換し、機能列の名前を変更し、機能列から値を削除し、ワンホットエンコーディング機能を作成し、時間機能を意味のある表現に変換しました。ラボの終わりまでに、機械学習モデルに入力する前にデータを「クリーンアップ」および「前処理」する必要がある理由について理解を深めました。"
   ]
  },
  {
   "cell_type": "markdown",
   "metadata": {},
   "source": [
    "Copyright 2020 Google Inc.\n",
    "Licensed under the Apache License, Version 2.0 (the \"License\"); you may not use this file except in compliance with the License. You may obtain a copy of the License at\n",
    "http://www.apache.org/licenses/LICENSE-2.0\n",
    "Unless required by applicable law or agreed to in writing, software distributed under the License is distributed on an \"AS IS\" BASIS, WITHOUT WARRANTIES OR CONDITIONS OF ANY KIND, either express or implied. See the License for the specific language governing permissions and limitations under the License."
   ]
  }
 ],
 "metadata": {
  "colab": {
   "collapsed_sections": [],
   "name": "Basic Feature Engineering in Keras.ipynb",
   "provenance": [],
   "toc_visible": true
  },
  "environment": {
   "name": "tf2-gpu.2-1.m75",
   "type": "gcloud",
   "uri": "gcr.io/deeplearning-platform-release/tf2-gpu.2-1:m75"
  },
  "kernelspec": {
   "display_name": "Python 3",
   "language": "python",
   "name": "python3"
  },
  "language_info": {
   "codemirror_mode": {
    "name": "ipython",
    "version": 3
   },
   "file_extension": ".py",
   "mimetype": "text/x-python",
   "name": "python",
   "nbconvert_exporter": "python",
   "pygments_lexer": "ipython3",
   "version": "3.7.10"
  }
 },
 "nbformat": 4,
 "nbformat_minor": 4
}
